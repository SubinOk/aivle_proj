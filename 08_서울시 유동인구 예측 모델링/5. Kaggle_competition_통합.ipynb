{
 "cells": [
  {
   "cell_type": "markdown",
   "id": "bright-evolution",
   "metadata": {},
   "source": [
    "## 1. 데이터 불러오기"
   ]
  },
  {
   "cell_type": "code",
   "execution_count": null,
   "id": "innocent-token",
   "metadata": {},
   "outputs": [],
   "source": [
    "import pandas as pd\n",
    "\n",
    "# 학습 데이터 로딩\n",
    "df_total = pd.read_csv('./data/df_total.csv')\n",
    "df_test = pd.read_csv('./data/df_test.csv')"
   ]
  },
  {
   "cell_type": "markdown",
   "id": "bright-evolution",
   "metadata": {},
   "source": [
    "## 2. 데이터 전처리"
   ]
  },
  {
   "cell_type": "code",
   "execution_count": null,
   "id": "0557335c",
   "metadata": {},
   "outputs": [],
   "source": [
    "# 열 추가\n",
    "df_total['기준일ID'] = pd.to_datetime(df_total['기준일ID'])\n",
    "\n",
    "df_total['year']=df_total['기준일ID'].dt.year\n",
    "df_total['month']=df_total['기준일ID'].dt.month\n",
    "df_total['day']=df_total['기준일ID'].dt.day"
   ]
  },
  {
   "cell_type": "code",
   "execution_count": null,
   "id": "2f024b9b",
   "metadata": {},
   "outputs": [],
   "source": [
    "# 열 제거 및 이름 변경\n",
    "df_total.rename(columns={'시간대구분': 'hour'}, inplace=True)\n",
    "df_total = df_total.loc[:, ['year', 'month', 'day', 'hour', '총생활인구수']].copy()"
   ]
  },
  {
   "cell_type": "code",
   "execution_count": null,
   "id": "60c1c633",
   "metadata": {},
   "outputs": [],
   "source": [
    "# 시프트를 사용해 target 설정\n",
    "df_total['총생활인구수_M2'] = df_total['총생활인구수'].shift(-1416) # 2개월 후 동일 시간대의 총 생활인구수"
   ]
  },
  {
   "cell_type": "code",
   "execution_count": null,
   "metadata": {},
   "outputs": [],
   "source": [
    "# 롤링을 사용해 feature 추가\n",
    "# df_total['총생활인구수_MA_168'] = df_total['총생활인구수'].rolling(168).mean() # 기준일 포함 최근 7일간 이동 평균"
   ]
  },
  {
   "cell_type": "code",
   "execution_count": null,
   "id": "driven-optimization",
   "metadata": {},
   "outputs": [],
   "source": [
    "# 결측치 제거\n",
    "cols = ['year', 'month', 'day', 'hour']\n",
    "\n",
    "df_total.drop(cols, axis=1, inplace=True)\n",
    "df_total.dropna(axis=0, inplace=True)"
   ]
  },
  {
   "cell_type": "code",
   "execution_count": null,
   "metadata": {},
   "outputs": [],
   "source": [
    "train_x = df_total['총생활인구수']\n",
    "train_y = df_total['총생활인구수_M2']\n",
    "\n",
    "train_x.reset_index(drop=True, inplace=True)\n",
    "train_y.reset_index(drop=True, inplace=True)"
   ]
  },
  {
   "cell_type": "markdown",
   "metadata": {},
   "source": [
    "----"
   ]
  },
  {
   "cell_type": "markdown",
   "id": "persistent-brighton",
   "metadata": {},
   "source": [
    "### 가. LinearRegression 부터 시작해봅시다."
   ]
  },
  {
   "cell_type": "markdown",
   "id": "joined-client",
   "metadata": {},
   "source": [
    "#### [실습문제1] 머신러닝_1\n",
    "* Train과 Test로 나눈 데이터를 기준으로 LinearRegression 모델링을 진행하고 평가를 해주세요.\n",
    "* 성능지표 : RMSE, R-squared Score"
   ]
  },
  {
   "cell_type": "code",
   "execution_count": null,
   "id": "b49c4fb9",
   "metadata": {},
   "outputs": [],
   "source": [
    "# 아래에 실습코드를 작성하고 결과를 확인합니다.\n",
    "from sklearn.linear_model import LinearRegression\n",
    "from sklearn.metrics import *"
   ]
  },
  {
   "cell_type": "code",
   "execution_count": null,
   "id": "0a21d60f",
   "metadata": {},
   "outputs": [
    {
     "name": "stdout",
     "output_type": "stream",
     "text": [
      "--- 7일 후의 생활인구수 예측 ---\n",
      "RMSE:  1776.69081227391\n",
      "R-squared Score:  0.8256857440269225\n",
      "\n",
      "--- 1달 후의 생활인구수 예측 ---\n",
      "RMSE:  2938.0656059078483\n",
      "R-squared Score:  0.5312835971594729\n",
      "\n",
      "--- 2달 후의 생활인구수 예측 ---\n",
      "RMSE:  3194.7571725818657\n",
      "R-squared Score:  0.44337793328743624\n",
      "\n",
      "--- 1년 후의 생활인구수 예측 ---\n",
      "RMSE:  3575.1304944341878\n",
      "R-squared Score:  0.29243453783871876\n",
      "\n"
     ]
    }
   ],
   "source": [
    "# 아래에 실습코드를 작성하세요.\n",
    "for i, (tx, ty, ttx, tty) in enumerate(zip(train_x, train_y, test_x, test_y)):\n",
    "    lr = LinearRegression()\n",
    "    lr.fit(tx.reshape(-1, 1), ty)\n",
    "    \n",
    "    pred_lr = lr.predict(ttx.reshape(-1, 1))\n",
    "\n",
    "    if i==0:\n",
    "        print('--- 7일 후의 생활인구수 예측 ---')\n",
    "    elif i==1:\n",
    "        print('--- 1달 후의 생활인구수 예측 ---')\n",
    "    elif i==2:\n",
    "        print('--- 2달 후의 생활인구수 예측 ---')\n",
    "    else:\n",
    "        print('--- 1년 후의 생활인구수 예측 ---')\n",
    "        \n",
    "    print('RMSE: ', mean_squared_error(tty, pred_lr, squared=False))\n",
    "    print('R-squared Score: ', r2_score(tty, pred_lr))\n",
    "    print()"
   ]
  },
  {
   "cell_type": "markdown",
   "id": "dense-eleven",
   "metadata": {},
   "source": [
    "#### [실습문제2] 머신러닝_2\n",
    "* Train과 Test로 나눈 데이터를 기준으로 렌덤포레스트로 모델을 학습을 진행하고 평가를 해주세요.\n",
    "* 성능지표 : RMSE, R-squared Score"
   ]
  },
  {
   "cell_type": "code",
   "execution_count": null,
   "metadata": {},
   "outputs": [],
   "source": [
    "from sklearn.ensemble import RandomForestRegressor"
   ]
  },
  {
   "cell_type": "code",
   "execution_count": null,
   "metadata": {},
   "outputs": [
    {
     "name": "stdout",
     "output_type": "stream",
     "text": [
      "--- 7일 후의 생활인구수 예측 ---\n",
      "RMSE:  2086.887958968078\n",
      "R-squared Score:  0.7595042200749691\n",
      "\n",
      "--- 1달 후의 생활인구수 예측 ---\n",
      "RMSE:  3494.5976335812275\n",
      "R-squared Score:  0.336896178767786\n",
      "\n",
      "--- 2달 후의 생활인구수 예측 ---\n",
      "RMSE:  3829.354844942175\n",
      "R-squared Score:  0.20028372298524977\n",
      "\n",
      "--- 1년 후의 생활인구수 예측 ---\n",
      "RMSE:  4245.643265085746\n",
      "R-squared Score:  0.0021395044513651262\n",
      "\n"
     ]
    }
   ],
   "source": [
    "# 아래에 실습코드를 작성하세요.\n",
    "for i, (tx, ty, ttx, tty) in enumerate(zip(train_x, train_y, test_x, test_y)):\n",
    "    rf = RandomForestRegressor()\n",
    "    rf.fit(tx.reshape(-1, 1), ty)\n",
    "    \n",
    "    pred_rf = rf.predict(ttx.reshape(-1, 1))\n",
    "\n",
    "    if i==0:\n",
    "        print('--- 7일 후의 생활인구수 예측 ---')\n",
    "    elif i==1:\n",
    "        print('--- 1달 후의 생활인구수 예측 ---')\n",
    "    elif i==2:\n",
    "        print('--- 2달 후의 생활인구수 예측 ---')\n",
    "    else:\n",
    "        print('--- 1년 후의 생활인구수 예측 ---')\n",
    "        \n",
    "    print('RMSE: ', mean_squared_error(tty, pred_rf, squared=False))\n",
    "    print('R-squared Score: ', r2_score(tty, pred_rf))\n",
    "    print()"
   ]
  },
  {
   "cell_type": "markdown",
   "id": "needed-google",
   "metadata": {},
   "source": [
    "#### [실습문제3] 머신러닝_3\n",
    "* Train과 Test로 나눈 데이터를 기준으로 그라디언트부스팅으로 모델을 학습을 진행하고 평가를 해주세요.\n",
    "* 성능지표 : RMSE, R-squared Score"
   ]
  },
  {
   "cell_type": "code",
   "execution_count": null,
   "metadata": {},
   "outputs": [],
   "source": [
    "from xgboost import XGBRegressor"
   ]
  },
  {
   "cell_type": "code",
   "execution_count": null,
   "metadata": {},
   "outputs": [
    {
     "name": "stdout",
     "output_type": "stream",
     "text": [
      "--- 7일 후의 생활인구수 예측 ---\n",
      "RMSE:  1763.9992776997028\n",
      "R-squared Score:  0.8281672266948278\n",
      "\n",
      "--- 1달 후의 생활인구수 예측 ---\n",
      "RMSE:  2921.1679095342\n",
      "R-squared Score:  0.5366595504009777\n",
      "\n",
      "--- 2달 후의 생활인구수 예측 ---\n",
      "RMSE:  3189.933334670412\n",
      "R-squared Score:  0.44505757738538154\n",
      "\n",
      "--- 1년 후의 생활인구수 예측 ---\n",
      "RMSE:  3547.7526173504066\n",
      "R-squared Score:  0.3032299298115201\n",
      "\n"
     ]
    }
   ],
   "source": [
    "# 아래에 실습코드를 작성하세요.\n",
    "for i, (tx, ty, ttx, tty) in enumerate(zip(train_x, train_y, test_x, test_y)):\n",
    "    xgb = XGBRegressor()\n",
    "    xgb.fit(tx.reshape(-1, 1), ty)\n",
    "    \n",
    "    pred_xgb = xgb.predict(ttx.reshape(-1, 1))\n",
    "\n",
    "    if i==0:\n",
    "        print('--- 7일 후의 생활인구수 예측 ---')\n",
    "    elif i==1:\n",
    "        print('--- 1달 후의 생활인구수 예측 ---')\n",
    "    elif i==2:\n",
    "        print('--- 2달 후의 생활인구수 예측 ---')\n",
    "    else:\n",
    "        print('--- 1년 후의 생활인구수 예측 ---')\n",
    "        \n",
    "    print('RMSE: ', mean_squared_error(tty, pred_xgb, squared=False))\n",
    "    print('R-squared Score: ', r2_score(tty, pred_xgb))\n",
    "    print()"
   ]
  },
  {
   "cell_type": "markdown",
   "metadata": {},
   "source": [
    "----"
   ]
  }
 ],
 "metadata": {
  "kernelspec": {
   "display_name": "Python 3.10.7 64-bit",
   "language": "python",
   "name": "python3"
  },
  "language_info": {
   "name": "python",
   "version": "3.10.7"
  },
  "orig_nbformat": 4,
  "vscode": {
   "interpreter": {
    "hash": "23c67d85f209742c672c1b7fd95247539f09df0e36c0a91a355481fa2e35a8db"
   }
  }
 },
 "nbformat": 4,
 "nbformat_minor": 2
}
