{
 "cells": [
  {
   "cell_type": "markdown",
   "id": "55add5c1",
   "metadata": {},
   "source": [
    "# 안녕하세요^^ \n",
    "# AIVLE 미니 프로젝트에 오신 여러분을 환영합니다.\n",
    "* 본 과정에서는 실제 사례와 데이터를 기반으로 문제를 해결하는 전체 과정을 자기 주도형 실습으로 진행해볼 예정입니다.\n",
    "* 앞선 교육과정을 정리하는 마음과 지금까지 배운 내용을 바탕으로 문제 해결을 해볼게요!\n",
    "* 미니 프로젝트를 통한 문제 해결 과정 'A에서 Z까지', 지금부터 시작합니다!"
   ]
  },
  {
   "cell_type": "markdown",
   "id": "84008ade",
   "metadata": {},
   "source": [
    "---"
   ]
  },
  {
   "cell_type": "markdown",
   "id": "bright-evolution",
   "metadata": {},
   "source": [
    "# (실습준비) 데이터 불러오기부터\n",
    "\n",
    "* 17년도부터 21년도 까지의 데이터를 train set, 22년도의 6개월치 데이터를 test set 으로 설정합니다."
   ]
  },
  {
   "cell_type": "code",
   "execution_count": 1,
   "id": "innocent-token",
   "metadata": {},
   "outputs": [],
   "source": [
    "import pandas as pd\n",
    "\n",
    "# 학습 데이터 로딩\n",
    "df_total = pd.read_csv('./data/df_total.csv')\n",
    "df_test = pd.read_csv('./data/df_test.csv')"
   ]
  },
  {
   "cell_type": "markdown",
   "id": "polished-myrtle",
   "metadata": {},
   "source": [
    "---"
   ]
  },
  {
   "cell_type": "markdown",
   "id": "palestinian-catalog",
   "metadata": {},
   "source": [
    "# 1. 데이터 전처리"
   ]
  },
  {
   "cell_type": "markdown",
   "id": "89892756",
   "metadata": {},
   "source": [
    "#### [실습문제1] 열 추가 \n",
    "* 기존 '기준일ID'열에서 날짜 데이터를 추출하여 새로운 열로 추가 합니다.\n",
    "    - pd.to_datetime() 함수를 사용해 '기준일ID'열을 datetime 형식으로 변경하겠습니다.\n",
    "    - year, month, day 열로 기존 데이터 프레임에 연월일 정보를 저장합니다.\n",
    "    - 데이터 프레임 열에 대해 날짜 정보를 얻을 때에는 **dt.year**, **dt.month**, **dt.day** 속성을 사용합니다. "
   ]
  },
  {
   "cell_type": "code",
   "execution_count": 2,
   "id": "0557335c",
   "metadata": {},
   "outputs": [],
   "source": [
    "df_total['기준일ID'] = pd.to_datetime(df_total['기준일ID'])\n",
    "df_test['기준일ID'] = pd.to_datetime(df_test['기준일ID'])"
   ]
  },
  {
   "cell_type": "code",
   "execution_count": 3,
   "id": "3553fb5f",
   "metadata": {},
   "outputs": [],
   "source": [
    "# 아래에 실습코드를 작성하고 결과를 확인합니다.\n",
    "df_total['year']=df_total['기준일ID'].dt.year\n",
    "df_total['month']=df_total['기준일ID'].dt.month\n",
    "df_total['day']=df_total['기준일ID'].dt.day"
   ]
  },
  {
   "cell_type": "code",
   "execution_count": 4,
   "id": "85808d0d",
   "metadata": {},
   "outputs": [],
   "source": [
    "# 아래에 실습코드를 작성하고 결과를 확인합니다.\n",
    "df_test['year']=df_test['기준일ID'].dt.year\n",
    "df_test['month']=df_test['기준일ID'].dt.month\n",
    "df_test['day']=df_test['기준일ID'].dt.day"
   ]
  },
  {
   "cell_type": "markdown",
   "id": "fefaf235",
   "metadata": {},
   "source": [
    "#### [실습문제2] 불필요한 열 제거 및 열 이름 변경\n",
    "* df_total과 df_test에서 '총생활인구수'외에 불필요한 열을 제거 하도록 하겠습니다.\n",
    "* 시간 데이터를 남기고, '시간대구분' column 을 'hour'로 rename 하도록 하겠습니다. "
   ]
  },
  {
   "cell_type": "code",
   "execution_count": 5,
   "id": "2f024b9b",
   "metadata": {},
   "outputs": [],
   "source": [
    "# 아래에 실습코드를 작성하고 결과를 확인합니다.\n",
    "df_total.rename(columns={'시간대구분': 'hour'}, inplace=True)\n",
    "df_test.rename(columns={'시간대구분': 'hour'}, inplace=True)"
   ]
  },
  {
   "cell_type": "code",
   "execution_count": 6,
   "id": "0bd4ebf8",
   "metadata": {},
   "outputs": [],
   "source": [
    "# 아래에 실습코드를 작성하고 결과를 확인합니다.\n",
    "df_total = df_total.loc[:, ['year', 'month', 'day', 'hour', '총생활인구수']].copy()\n",
    "df_test = df_test.loc[:, ['year', 'month', 'day', 'hour', '총생활인구수']].copy()"
   ]
  },
  {
   "cell_type": "markdown",
   "id": "fefaf235",
   "metadata": {},
   "source": [
    "#### [실습문제3] 시프트 & 롤링\n",
    "* shift()를 활용하여 이동할 행 수를 지정합니다.\n",
    "* rolling()을 활용하여 추가할 이동평균 수를 지정합니다."
   ]
  },
  {
   "cell_type": "code",
   "execution_count": 7,
   "id": "60c1c633",
   "metadata": {},
   "outputs": [],
   "source": [
    "# 아래에 실습코드를 작성하고 결과를 확인합니다.\n",
    "df_total['총생활인구수_M2'] = df_total['총생활인구수'].shift(-1416) # 2달 후 동일 시간대의 총 생활인구수\n",
    "df_test['총생활인구수_M2'] = df_test['총생활인구수'].shift(-1416)"
   ]
  },
  {
   "cell_type": "code",
   "execution_count": 9,
   "id": "6b4d6ebd",
   "metadata": {},
   "outputs": [],
   "source": [
    "# # 아래에 실습코드를 작성하고 결과를 확인합니다.\n",
    "# df_total['총생활인구수_MA_168'] = df_total['총생활인구수'].rolling(168).mean() # 기준일 포함 최근 7일간 이동 평균\n",
    "# df_test['총생활인구수_MA_168'] = df_test['총생활인구수'].rolling(168).mean() # 기준일 포함 최근 7일간 이동 평균"
   ]
  },
  {
   "cell_type": "markdown",
   "id": "combined-python",
   "metadata": {},
   "source": [
    "#### [실습문제4] 결측치 처리 및 불필요한 열 제거\n",
    "* 롤링 & 시프트 과정에서 발생한 결측치를 처리하도록 하겠습니다.\n",
    "* 불필요한 열을 추가로 제거 하겠습니다.(시간 관련 행들)"
   ]
  },
  {
   "cell_type": "code",
   "execution_count": 8,
   "id": "de88e130",
   "metadata": {},
   "outputs": [],
   "source": [
    "# 아래에 실습코드를 작성하고 결과를 확인합니다.\n",
    "df_total.dropna(axis=0, inplace=True)\n",
    "df_test.dropna(axis=0, inplace=True)"
   ]
  },
  {
   "cell_type": "code",
   "execution_count": 9,
   "id": "driven-optimization",
   "metadata": {},
   "outputs": [],
   "source": [
    "# 아래에 실습코드를 작성하고 결과를 확인합니다.\n",
    "cols = ['year', 'month', 'day', 'hour']\n",
    "\n",
    "df_total.drop(cols, axis=1, inplace=True)\n",
    "df_test.drop(cols, axis=1, inplace=True)"
   ]
  },
  {
   "cell_type": "markdown",
   "id": "dependent-motion",
   "metadata": {},
   "source": [
    "#### [실습문제5] train, test 데이터 나누기\n",
    "* df_total과 df_test를 각각 train_x, train_y, test_x, test_y 로 나누어 주세요.\n",
    "* 인덱스를 리셋 해주세요."
   ]
  },
  {
   "cell_type": "code",
   "execution_count": 10,
   "id": "92652b6b",
   "metadata": {},
   "outputs": [],
   "source": [
    "# 아래에 실습코드를 작성하고 결과를 확인합니다.\n",
    "train_x = df_total['총생활인구수']\n",
    "train_y = df_total['총생활인구수_M2']\n",
    "\n",
    "test_x = df_test['총생활인구수']\n",
    "test_y = df_test['총생활인구수_M2']"
   ]
  },
  {
   "cell_type": "code",
   "execution_count": 11,
   "id": "b49c4fb9",
   "metadata": {},
   "outputs": [],
   "source": [
    "# 아래에 실습코드를 작성하고 결과를 확인합니다.\n",
    "train_x.reset_index(drop=True, inplace=True)\n",
    "train_y.reset_index(drop=True, inplace=True)\n",
    "\n",
    "test_x.reset_index(drop=True, inplace=True)\n",
    "test_y.reset_index(drop=True, inplace=True)"
   ]
  },
  {
   "cell_type": "markdown",
   "id": "dramatic-meditation",
   "metadata": {},
   "source": [
    "---"
   ]
  },
  {
   "cell_type": "markdown",
   "id": "bridal-closer",
   "metadata": {},
   "source": [
    "## 다음 단계를 위해서 데이터를 저장하겠습니다."
   ]
  },
  {
   "cell_type": "code",
   "execution_count": 12,
   "id": "designed-cartridge",
   "metadata": {},
   "outputs": [],
   "source": [
    "# CSV로 저장\n",
    "train_x.to_csv('./data/train_x.csv', index = False)\n",
    "train_y.to_csv('./data/train_y.csv', index = False)\n",
    "test_x.to_csv('./data/test_x.csv', index = False)\n",
    "test_y.to_csv('./data/test_y.csv', index = False)"
   ]
  },
  {
   "cell_type": "markdown",
   "id": "b70ee587",
   "metadata": {},
   "source": [
    "---"
   ]
  }
 ],
 "metadata": {
  "kernelspec": {
   "display_name": "Python 3.10.7 64-bit",
   "language": "python",
   "name": "python3"
  },
  "language_info": {
   "codemirror_mode": {
    "name": "ipython",
    "version": 3
   },
   "file_extension": ".py",
   "mimetype": "text/x-python",
   "name": "python",
   "nbconvert_exporter": "python",
   "pygments_lexer": "ipython3",
   "version": "3.10.7"
  },
  "vscode": {
   "interpreter": {
    "hash": "23c67d85f209742c672c1b7fd95247539f09df0e36c0a91a355481fa2e35a8db"
   }
  }
 },
 "nbformat": 4,
 "nbformat_minor": 5
}
