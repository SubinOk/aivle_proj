{
 "cells": [
  {
   "cell_type": "markdown",
   "id": "bright-evolution",
   "metadata": {},
   "source": [
    "## 1. 데이터 불러오기"
   ]
  },
  {
   "cell_type": "code",
   "execution_count": null,
   "id": "innocent-token",
   "metadata": {},
   "outputs": [],
   "source": [
    "import pandas as pd\n",
    "\n",
    "# 학습 데이터 로딩\n",
    "df17 = pd.read_csv('./data/data2017.csv')\n",
    "df18 = pd.read_csv('./data/data2018.csv')\n",
    "df19 = pd.read_csv('./data/data2019.csv')\n",
    "df20 = pd.read_csv('./data/data2020.csv')\n",
    "df21 = pd.read_csv('./data/data2021.csv')\n",
    "df22 = pd.read_csv('./data/data2022.csv')"
   ]
  },
  {
   "cell_type": "code",
   "execution_count": null,
   "metadata": {},
   "outputs": [
    {
     "data": {
      "text/html": [
       "<div>\n",
       "<style scoped>\n",
       "    .dataframe tbody tr th:only-of-type {\n",
       "        vertical-align: middle;\n",
       "    }\n",
       "\n",
       "    .dataframe tbody tr th {\n",
       "        vertical-align: top;\n",
       "    }\n",
       "\n",
       "    .dataframe thead th {\n",
       "        text-align: right;\n",
       "    }\n",
       "</style>\n",
       "<table border=\"1\" class=\"dataframe\">\n",
       "  <thead>\n",
       "    <tr style=\"text-align: right;\">\n",
       "      <th></th>\n",
       "      <th>기준일ID</th>\n",
       "      <th>시간대구분</th>\n",
       "      <th>총생활인구수</th>\n",
       "      <th>남자0세부터9세생활인구수</th>\n",
       "      <th>남자10세부터14세생활인구수</th>\n",
       "      <th>남자15세부터19세생활인구수</th>\n",
       "      <th>남자20세부터24세생활인구수</th>\n",
       "      <th>남자25세부터29세생활인구수</th>\n",
       "      <th>남자30세부터34세생활인구수</th>\n",
       "      <th>남자35세부터39세생활인구수</th>\n",
       "      <th>...</th>\n",
       "      <th>여자25세부터29세생활인구수</th>\n",
       "      <th>여자30세부터34세생활인구수</th>\n",
       "      <th>여자35세부터39세생활인구수</th>\n",
       "      <th>여자40세부터44세생활인구수</th>\n",
       "      <th>여자45세부터49세생활인구수</th>\n",
       "      <th>여자50세부터54세생활인구수</th>\n",
       "      <th>여자55세부터59세생활인구수</th>\n",
       "      <th>여자60세부터64세생활인구수</th>\n",
       "      <th>여자65세부터69세생활인구수</th>\n",
       "      <th>여자70세이상생활인구수</th>\n",
       "    </tr>\n",
       "  </thead>\n",
       "  <tbody>\n",
       "    <tr>\n",
       "      <th>0</th>\n",
       "      <td>20170101</td>\n",
       "      <td>0</td>\n",
       "      <td>31535.2200</td>\n",
       "      <td>1945.4402</td>\n",
       "      <td>566.4588</td>\n",
       "      <td>631.5581</td>\n",
       "      <td>991.9184</td>\n",
       "      <td>1297.1287</td>\n",
       "      <td>1223.1529</td>\n",
       "      <td>1552.9448</td>\n",
       "      <td>...</td>\n",
       "      <td>1157.6661</td>\n",
       "      <td>1107.6781</td>\n",
       "      <td>1282.9235</td>\n",
       "      <td>1029.4360</td>\n",
       "      <td>998.0414</td>\n",
       "      <td>874.5643</td>\n",
       "      <td>1162.1547</td>\n",
       "      <td>1053.0477</td>\n",
       "      <td>964.3940</td>\n",
       "      <td>2025.4819</td>\n",
       "    </tr>\n",
       "    <tr>\n",
       "      <th>1</th>\n",
       "      <td>20170101</td>\n",
       "      <td>1</td>\n",
       "      <td>31188.9174</td>\n",
       "      <td>1930.4766</td>\n",
       "      <td>562.1018</td>\n",
       "      <td>625.2151</td>\n",
       "      <td>1030.6281</td>\n",
       "      <td>1307.7381</td>\n",
       "      <td>1183.0956</td>\n",
       "      <td>1491.5827</td>\n",
       "      <td>...</td>\n",
       "      <td>1120.0051</td>\n",
       "      <td>1102.5198</td>\n",
       "      <td>1271.8997</td>\n",
       "      <td>1027.2574</td>\n",
       "      <td>1038.7528</td>\n",
       "      <td>857.9100</td>\n",
       "      <td>1149.7532</td>\n",
       "      <td>1042.7411</td>\n",
       "      <td>919.0115</td>\n",
       "      <td>2062.2422</td>\n",
       "    </tr>\n",
       "    <tr>\n",
       "      <th>2</th>\n",
       "      <td>20170101</td>\n",
       "      <td>2</td>\n",
       "      <td>31240.4974</td>\n",
       "      <td>1921.1864</td>\n",
       "      <td>559.3965</td>\n",
       "      <td>658.7463</td>\n",
       "      <td>1058.7082</td>\n",
       "      <td>1311.9591</td>\n",
       "      <td>1186.2600</td>\n",
       "      <td>1537.3732</td>\n",
       "      <td>...</td>\n",
       "      <td>1103.1547</td>\n",
       "      <td>1112.4579</td>\n",
       "      <td>1282.9366</td>\n",
       "      <td>1027.8901</td>\n",
       "      <td>1020.0177</td>\n",
       "      <td>853.3890</td>\n",
       "      <td>1193.4472</td>\n",
       "      <td>1011.2073</td>\n",
       "      <td>889.9325</td>\n",
       "      <td>1960.1236</td>\n",
       "    </tr>\n",
       "    <tr>\n",
       "      <th>3</th>\n",
       "      <td>20170101</td>\n",
       "      <td>3</td>\n",
       "      <td>31442.4314</td>\n",
       "      <td>1946.4476</td>\n",
       "      <td>566.7525</td>\n",
       "      <td>649.0804</td>\n",
       "      <td>1057.9119</td>\n",
       "      <td>1324.2638</td>\n",
       "      <td>1202.1250</td>\n",
       "      <td>1521.2732</td>\n",
       "      <td>...</td>\n",
       "      <td>1116.2165</td>\n",
       "      <td>1102.0668</td>\n",
       "      <td>1260.8472</td>\n",
       "      <td>1007.6650</td>\n",
       "      <td>1042.9554</td>\n",
       "      <td>896.0038</td>\n",
       "      <td>1163.0355</td>\n",
       "      <td>1056.6428</td>\n",
       "      <td>891.9177</td>\n",
       "      <td>2060.1872</td>\n",
       "    </tr>\n",
       "    <tr>\n",
       "      <th>4</th>\n",
       "      <td>20170101</td>\n",
       "      <td>4</td>\n",
       "      <td>31922.7751</td>\n",
       "      <td>1953.7713</td>\n",
       "      <td>568.8845</td>\n",
       "      <td>623.2087</td>\n",
       "      <td>1063.2557</td>\n",
       "      <td>1342.9146</td>\n",
       "      <td>1209.2680</td>\n",
       "      <td>1556.0675</td>\n",
       "      <td>...</td>\n",
       "      <td>1187.5457</td>\n",
       "      <td>1120.2232</td>\n",
       "      <td>1281.2738</td>\n",
       "      <td>1064.0655</td>\n",
       "      <td>1045.2130</td>\n",
       "      <td>895.8336</td>\n",
       "      <td>1191.7017</td>\n",
       "      <td>1045.3362</td>\n",
       "      <td>874.4984</td>\n",
       "      <td>2038.6212</td>\n",
       "    </tr>\n",
       "  </tbody>\n",
       "</table>\n",
       "<p>5 rows × 31 columns</p>\n",
       "</div>"
      ],
      "text/plain": [
       "      기준일ID  시간대구분      총생활인구수  남자0세부터9세생활인구수  남자10세부터14세생활인구수  \\\n",
       "0  20170101      0  31535.2200      1945.4402         566.4588   \n",
       "1  20170101      1  31188.9174      1930.4766         562.1018   \n",
       "2  20170101      2  31240.4974      1921.1864         559.3965   \n",
       "3  20170101      3  31442.4314      1946.4476         566.7525   \n",
       "4  20170101      4  31922.7751      1953.7713         568.8845   \n",
       "\n",
       "   남자15세부터19세생활인구수  남자20세부터24세생활인구수  남자25세부터29세생활인구수  남자30세부터34세생활인구수  \\\n",
       "0         631.5581         991.9184        1297.1287        1223.1529   \n",
       "1         625.2151        1030.6281        1307.7381        1183.0956   \n",
       "2         658.7463        1058.7082        1311.9591        1186.2600   \n",
       "3         649.0804        1057.9119        1324.2638        1202.1250   \n",
       "4         623.2087        1063.2557        1342.9146        1209.2680   \n",
       "\n",
       "   남자35세부터39세생활인구수  ...  여자25세부터29세생활인구수  여자30세부터34세생활인구수  여자35세부터39세생활인구수  \\\n",
       "0        1552.9448  ...        1157.6661        1107.6781        1282.9235   \n",
       "1        1491.5827  ...        1120.0051        1102.5198        1271.8997   \n",
       "2        1537.3732  ...        1103.1547        1112.4579        1282.9366   \n",
       "3        1521.2732  ...        1116.2165        1102.0668        1260.8472   \n",
       "4        1556.0675  ...        1187.5457        1120.2232        1281.2738   \n",
       "\n",
       "   여자40세부터44세생활인구수  여자45세부터49세생활인구수  여자50세부터54세생활인구수  여자55세부터59세생활인구수  \\\n",
       "0        1029.4360         998.0414         874.5643        1162.1547   \n",
       "1        1027.2574        1038.7528         857.9100        1149.7532   \n",
       "2        1027.8901        1020.0177         853.3890        1193.4472   \n",
       "3        1007.6650        1042.9554         896.0038        1163.0355   \n",
       "4        1064.0655        1045.2130         895.8336        1191.7017   \n",
       "\n",
       "   여자60세부터64세생활인구수  여자65세부터69세생활인구수  여자70세이상생활인구수  \n",
       "0        1053.0477         964.3940     2025.4819  \n",
       "1        1042.7411         919.0115     2062.2422  \n",
       "2        1011.2073         889.9325     1960.1236  \n",
       "3        1056.6428         891.9177     2060.1872  \n",
       "4        1045.3362         874.4984     2038.6212  \n",
       "\n",
       "[5 rows x 31 columns]"
      ]
     },
     "metadata": {},
     "output_type": "display_data"
    }
   ],
   "source": [
    "df17.head()"
   ]
  },
  {
   "cell_type": "code",
   "execution_count": null,
   "metadata": {},
   "outputs": [],
   "source": [
    "df_total = pd.concat([df17, df18, df19, df20, df21], axis=0)"
   ]
  },
  {
   "cell_type": "markdown",
   "metadata": {},
   "source": [
    "---"
   ]
  },
  {
   "cell_type": "markdown",
   "id": "bright-evolution",
   "metadata": {},
   "source": [
    "## 2. 데이터 전처리"
   ]
  },
  {
   "cell_type": "code",
   "execution_count": null,
   "id": "0557335c",
   "metadata": {},
   "outputs": [],
   "source": [
    "# 열 추가\n",
    "df_total['기준일ID'] = pd.to_datetime(df_total['기준일ID'], format='%Y%m%d')\n",
    "\n",
    "df_total['year']=df_total['기준일ID'].dt.year\n",
    "df_total['month']=df_total['기준일ID'].dt.month\n",
    "df_total['day']=df_total['기준일ID'].dt.day"
   ]
  },
  {
   "cell_type": "code",
   "execution_count": null,
   "id": "2f024b9b",
   "metadata": {},
   "outputs": [],
   "source": [
    "# 열 제거 및 이름 변경\n",
    "df_total.rename(columns={'시간대구분': 'hour'}, inplace=True)\n",
    "df_total = df_total.loc[:, ['year', 'month', 'day', 'hour', '총생활인구수']].copy()"
   ]
  },
  {
   "cell_type": "code",
   "execution_count": null,
   "id": "60c1c633",
   "metadata": {},
   "outputs": [],
   "source": [
    "# 시프트를 사용해 target 설정\n",
    "df_total['총생활인구수_M2'] = df_total['총생활인구수'].shift(-1416) # 2개월 후 동일 시간대의 총 생활인구수"
   ]
  },
  {
   "cell_type": "code",
   "execution_count": null,
   "metadata": {},
   "outputs": [],
   "source": [
    "# 롤링을 사용해 feature 추가\n",
    "df_total['총생활인구수_MA_1W'] = df_total['총생활인구수'].rolling(168).mean() # 기준일 포함 최근 7일간 이동 평균\n",
    "df_total['총생활인구수_MA_2W'] = df_total['총생활인구수'].rolling(336).mean() # 기준일 포함 최근 14일간 이동 평균\n",
    "df_total['총생활인구수_MA_1M'] = df_total['총생활인구수'].rolling(720).mean() # 기준일 포함 최근 30일간 이동 평균\n",
    "df_total['총생활인구수_MA_2M'] = df_total['총생활인구수'].rolling(1440).mean() # 기준일 포함 최근 60일간 이동 평균"
   ]
  },
  {
   "cell_type": "code",
   "execution_count": null,
   "metadata": {},
   "outputs": [
    {
     "data": {
      "text/html": [
       "<div>\n",
       "<style scoped>\n",
       "    .dataframe tbody tr th:only-of-type {\n",
       "        vertical-align: middle;\n",
       "    }\n",
       "\n",
       "    .dataframe tbody tr th {\n",
       "        vertical-align: top;\n",
       "    }\n",
       "\n",
       "    .dataframe thead th {\n",
       "        text-align: right;\n",
       "    }\n",
       "</style>\n",
       "<table border=\"1\" class=\"dataframe\">\n",
       "  <thead>\n",
       "    <tr style=\"text-align: right;\">\n",
       "      <th></th>\n",
       "      <th>year</th>\n",
       "      <th>month</th>\n",
       "      <th>day</th>\n",
       "      <th>hour</th>\n",
       "      <th>총생활인구수</th>\n",
       "      <th>총생활인구수_M2</th>\n",
       "      <th>총생활인구수_MA_1W</th>\n",
       "      <th>총생활인구수_MA_2W</th>\n",
       "      <th>총생활인구수_MA_1M</th>\n",
       "      <th>총생활인구수_MA_2M</th>\n",
       "    </tr>\n",
       "  </thead>\n",
       "  <tbody>\n",
       "    <tr>\n",
       "      <th>8755</th>\n",
       "      <td>2021</td>\n",
       "      <td>12</td>\n",
       "      <td>31</td>\n",
       "      <td>19</td>\n",
       "      <td>33060.4555</td>\n",
       "      <td>NaN</td>\n",
       "      <td>35189.981485</td>\n",
       "      <td>35229.873104</td>\n",
       "      <td>35268.758925</td>\n",
       "      <td>35429.657340</td>\n",
       "    </tr>\n",
       "    <tr>\n",
       "      <th>8756</th>\n",
       "      <td>2021</td>\n",
       "      <td>12</td>\n",
       "      <td>31</td>\n",
       "      <td>20</td>\n",
       "      <td>32360.1898</td>\n",
       "      <td>NaN</td>\n",
       "      <td>35185.892541</td>\n",
       "      <td>35227.022501</td>\n",
       "      <td>35268.342115</td>\n",
       "      <td>35428.862936</td>\n",
       "    </tr>\n",
       "    <tr>\n",
       "      <th>8757</th>\n",
       "      <td>2021</td>\n",
       "      <td>12</td>\n",
       "      <td>31</td>\n",
       "      <td>21</td>\n",
       "      <td>31417.3991</td>\n",
       "      <td>NaN</td>\n",
       "      <td>35182.222624</td>\n",
       "      <td>35226.172293</td>\n",
       "      <td>35267.912928</td>\n",
       "      <td>35428.193338</td>\n",
       "    </tr>\n",
       "    <tr>\n",
       "      <th>8758</th>\n",
       "      <td>2021</td>\n",
       "      <td>12</td>\n",
       "      <td>31</td>\n",
       "      <td>22</td>\n",
       "      <td>30763.0563</td>\n",
       "      <td>NaN</td>\n",
       "      <td>35176.888761</td>\n",
       "      <td>35221.590352</td>\n",
       "      <td>35266.813773</td>\n",
       "      <td>35427.355402</td>\n",
       "    </tr>\n",
       "    <tr>\n",
       "      <th>8759</th>\n",
       "      <td>2021</td>\n",
       "      <td>12</td>\n",
       "      <td>31</td>\n",
       "      <td>23</td>\n",
       "      <td>30404.2740</td>\n",
       "      <td>NaN</td>\n",
       "      <td>35166.708061</td>\n",
       "      <td>35218.038761</td>\n",
       "      <td>35264.280282</td>\n",
       "      <td>35426.113432</td>\n",
       "    </tr>\n",
       "  </tbody>\n",
       "</table>\n",
       "</div>"
      ],
      "text/plain": [
       "      year  month  day  hour      총생활인구수  총생활인구수_M2  총생활인구수_MA_1W  \\\n",
       "8755  2021     12   31    19  33060.4555        NaN  35189.981485   \n",
       "8756  2021     12   31    20  32360.1898        NaN  35185.892541   \n",
       "8757  2021     12   31    21  31417.3991        NaN  35182.222624   \n",
       "8758  2021     12   31    22  30763.0563        NaN  35176.888761   \n",
       "8759  2021     12   31    23  30404.2740        NaN  35166.708061   \n",
       "\n",
       "      총생활인구수_MA_2W  총생활인구수_MA_1M  총생활인구수_MA_2M  \n",
       "8755  35229.873104  35268.758925  35429.657340  \n",
       "8756  35227.022501  35268.342115  35428.862936  \n",
       "8757  35226.172293  35267.912928  35428.193338  \n",
       "8758  35221.590352  35266.813773  35427.355402  \n",
       "8759  35218.038761  35264.280282  35426.113432  "
      ]
     },
     "metadata": {},
     "output_type": "display_data"
    }
   ],
   "source": [
    "df_total.tail()"
   ]
  },
  {
   "cell_type": "code",
   "execution_count": null,
   "metadata": {},
   "outputs": [],
   "source": [
    "datasets = []"
   ]
  },
  {
   "cell_type": "code",
   "execution_count": null,
   "metadata": {},
   "outputs": [],
   "source": [
    "datasets.append(df_total.loc[:, ['총생활인구수', '총생활인구수_MA_1W', '총생활인구수_M2']].copy())\n",
    "datasets.append(df_total.loc[:, ['총생활인구수', '총생활인구수_MA_2W', '총생활인구수_M2']].copy())\n",
    "datasets.append(df_total.loc[:, ['총생활인구수', '총생활인구수_MA_1M', '총생활인구수_M2']].copy())"
   ]
  },
  {
   "cell_type": "code",
   "execution_count": null,
   "metadata": {},
   "outputs": [],
   "source": [
    "datasets.append(df_total.loc[:, ['총생활인구수', '총생활인구수_MA_1W', '총생활인구수_MA_2W', '총생활인구수_M2']].copy())\n",
    "datasets.append(df_total.loc[:, ['총생활인구수', '총생활인구수_MA_1W', '총생활인구수_MA_1M', '총생활인구수_M2']].copy())\n",
    "datasets.append(df_total.loc[:, ['총생활인구수', '총생활인구수_MA_1W', '총생활인구수_MA_2M', '총생활인구수_M2']].copy())\n",
    "datasets.append(df_total.loc[:, ['총생활인구수', '총생활인구수_MA_1M', '총생활인구수_MA_2M', '총생활인구수_M2']].copy())"
   ]
  },
  {
   "cell_type": "code",
   "execution_count": null,
   "metadata": {},
   "outputs": [],
   "source": [
    "datasets.append(df_total.loc[:, ['총생활인구수', '총생활인구수_MA_1W', '총생활인구수_MA_2W', '총생활인구수_MA_1M', '총생활인구수_M2']].copy())\n",
    "datasets.append(df_total.loc[:, ['총생활인구수', '총생활인구수_MA_1W', '총생활인구수_MA_2W', '총생활인구수_MA_1M', '총생활인구수_MA_2M', '총생활인구수_M2']].copy())"
   ]
  },
  {
   "cell_type": "code",
   "execution_count": null,
   "id": "de88e130",
   "metadata": {},
   "outputs": [],
   "source": [
    "# 아래에 실습코드를 작성하고 결과를 확인합니다.\n",
    "for dataset in datasets:\n",
    "    dataset.dropna(axis=0, inplace=True)"
   ]
  },
  {
   "cell_type": "code",
   "execution_count": null,
   "metadata": {},
   "outputs": [],
   "source": [
    "explainer = [\n",
    "    '--- 7일간 이동 평균 feature 추가 ---',\n",
    "    '--- 14일간 이동 평균 feature 추가 ---',\n",
    "    '--- 30일간 이동 평균 feature 추가 ---',\n",
    "    '--- 7일 + 14일간 이동 평균 feature 추가 ---',\n",
    "    '--- 7일 + 30일간 이동 평균 feature 추가 ---',\n",
    "    '--- 7일 + 60일간 이동 평균 feature 추가 ---',\n",
    "    '--- 30일 + 60일간 이동 평균 feature 추가 ---',\n",
    "    '--- 7일 + 14일 + 30일간 이동 평균 feature 추가 ---',\n",
    "    '--- 7일 + 14일 + 30일 + 60일간 이동 평균 feature 추가 ---'\n",
    "]"
   ]
  },
  {
   "cell_type": "markdown",
   "id": "dependent-motion",
   "metadata": {},
   "source": [
    "### train, test 데이터 나누기"
   ]
  },
  {
   "cell_type": "code",
   "execution_count": null,
   "metadata": {},
   "outputs": [],
   "source": [
    "from sklearn.model_selection import train_test_split"
   ]
  },
  {
   "cell_type": "code",
   "execution_count": null,
   "metadata": {},
   "outputs": [],
   "source": [
    "train_x, test_x, train_y, test_y = [[None] for _ in range(10)], [[None] for _ in range(10)], [[None] for _ in range(10)], [[None] for _ in range(10)]"
   ]
  },
  {
   "cell_type": "code",
   "execution_count": null,
   "id": "92652b6b",
   "metadata": {},
   "outputs": [],
   "source": [
    "for i, dataset in enumerate(datasets):\n",
    "    x = dataset.drop('총생활인구수_M2', axis=1)\n",
    "    y = dataset['총생활인구수_M2'].values\n",
    "\n",
    "    train_x[i], test_x[i], train_y[i], test_y[i] = train_test_split(x, y, test_size=.2)"
   ]
  },
  {
   "cell_type": "markdown",
   "metadata": {},
   "source": [
    "----"
   ]
  },
  {
   "cell_type": "markdown",
   "metadata": {},
   "source": [
    "## 3. 모델링"
   ]
  },
  {
   "cell_type": "code",
   "execution_count": null,
   "metadata": {},
   "outputs": [],
   "source": [
    "from sklearn.metrics import *"
   ]
  },
  {
   "cell_type": "markdown",
   "id": "persistent-brighton",
   "metadata": {},
   "source": [
    "### 가. Random Forest"
   ]
  },
  {
   "cell_type": "code",
   "execution_count": null,
   "id": "b49c4fb9",
   "metadata": {},
   "outputs": [
    {
     "name": "stdout",
     "output_type": "stream",
     "text": [
      "--- 7일간 이동 평균 feature 추가 ---\n",
      "RMSE:  2897.83487922053\n",
      "R-squared Score:  0.5526510881960528\n",
      "\n",
      "--- 14일간 이동 평균 feature 추가 ---\n",
      "RMSE:  2815.023019711814\n",
      "R-squared Score:  0.5674859787508981\n",
      "\n",
      "--- 30일간 이동 평균 feature 추가 ---\n",
      "RMSE:  2780.6566387505336\n",
      "R-squared Score:  0.5835547368840184\n",
      "\n",
      "--- 7일 + 14일간 이동 평균 feature 추가 ---\n",
      "RMSE:  2053.6228344729893\n",
      "R-squared Score:  0.7757295855351811\n",
      "\n"
     ]
    }
   ],
   "source": [
    "from sklearn.ensemble import RandomForestRegressor\n",
    "\n",
    "for i, (tr_x, tr_y, tx, ty) in enumerate(zip(train_x, train_y, test_x, test_y)):\n",
    "    rf = RandomForestRegressor()\n",
    "    rf.fit(tr_x, tr_y)\n",
    "    \n",
    "    pred_rf = rf.predict(tx)\n",
    "\n",
    "    print(explainer[i])\n",
    "    print('RMSE: ', mean_squared_error(ty, pred_rf, squared=False))\n",
    "    print('R-squared Score: ', r2_score(ty, pred_rf))\n",
    "    print()"
   ]
  },
  {
   "cell_type": "markdown",
   "id": "persistent-brighton",
   "metadata": {},
   "source": [
    "### 나. XGB"
   ]
  },
  {
   "cell_type": "code",
   "execution_count": null,
   "metadata": {},
   "outputs": [
    {
     "data": {
      "text/html": [
       "<style>#sk-container-id-34 {color: black;background-color: white;}#sk-container-id-34 pre{padding: 0;}#sk-container-id-34 div.sk-toggleable {background-color: white;}#sk-container-id-34 label.sk-toggleable__label {cursor: pointer;display: block;width: 100%;margin-bottom: 0;padding: 0.3em;box-sizing: border-box;text-align: center;}#sk-container-id-34 label.sk-toggleable__label-arrow:before {content: \"▸\";float: left;margin-right: 0.25em;color: #696969;}#sk-container-id-34 label.sk-toggleable__label-arrow:hover:before {color: black;}#sk-container-id-34 div.sk-estimator:hover label.sk-toggleable__label-arrow:before {color: black;}#sk-container-id-34 div.sk-toggleable__content {max-height: 0;max-width: 0;overflow: hidden;text-align: left;background-color: #f0f8ff;}#sk-container-id-34 div.sk-toggleable__content pre {margin: 0.2em;color: black;border-radius: 0.25em;background-color: #f0f8ff;}#sk-container-id-34 input.sk-toggleable__control:checked~div.sk-toggleable__content {max-height: 200px;max-width: 100%;overflow: auto;}#sk-container-id-34 input.sk-toggleable__control:checked~label.sk-toggleable__label-arrow:before {content: \"▾\";}#sk-container-id-34 div.sk-estimator input.sk-toggleable__control:checked~label.sk-toggleable__label {background-color: #d4ebff;}#sk-container-id-34 div.sk-label input.sk-toggleable__control:checked~label.sk-toggleable__label {background-color: #d4ebff;}#sk-container-id-34 input.sk-hidden--visually {border: 0;clip: rect(1px 1px 1px 1px);clip: rect(1px, 1px, 1px, 1px);height: 1px;margin: -1px;overflow: hidden;padding: 0;position: absolute;width: 1px;}#sk-container-id-34 div.sk-estimator {font-family: monospace;background-color: #f0f8ff;border: 1px dotted black;border-radius: 0.25em;box-sizing: border-box;margin-bottom: 0.5em;}#sk-container-id-34 div.sk-estimator:hover {background-color: #d4ebff;}#sk-container-id-34 div.sk-parallel-item::after {content: \"\";width: 100%;border-bottom: 1px solid gray;flex-grow: 1;}#sk-container-id-34 div.sk-label:hover label.sk-toggleable__label {background-color: #d4ebff;}#sk-container-id-34 div.sk-serial::before {content: \"\";position: absolute;border-left: 1px solid gray;box-sizing: border-box;top: 0;bottom: 0;left: 50%;z-index: 0;}#sk-container-id-34 div.sk-serial {display: flex;flex-direction: column;align-items: center;background-color: white;padding-right: 0.2em;padding-left: 0.2em;position: relative;}#sk-container-id-34 div.sk-item {position: relative;z-index: 1;}#sk-container-id-34 div.sk-parallel {display: flex;align-items: stretch;justify-content: center;background-color: white;position: relative;}#sk-container-id-34 div.sk-item::before, #sk-container-id-34 div.sk-parallel-item::before {content: \"\";position: absolute;border-left: 1px solid gray;box-sizing: border-box;top: 0;bottom: 0;left: 50%;z-index: -1;}#sk-container-id-34 div.sk-parallel-item {display: flex;flex-direction: column;z-index: 1;position: relative;background-color: white;}#sk-container-id-34 div.sk-parallel-item:first-child::after {align-self: flex-end;width: 50%;}#sk-container-id-34 div.sk-parallel-item:last-child::after {align-self: flex-start;width: 50%;}#sk-container-id-34 div.sk-parallel-item:only-child::after {width: 0;}#sk-container-id-34 div.sk-dashed-wrapped {border: 1px dashed gray;margin: 0 0.4em 0.5em 0.4em;box-sizing: border-box;padding-bottom: 0.4em;background-color: white;}#sk-container-id-34 div.sk-label label {font-family: monospace;font-weight: bold;display: inline-block;line-height: 1.2em;}#sk-container-id-34 div.sk-label-container {text-align: center;}#sk-container-id-34 div.sk-container {/* jupyter's `normalize.less` sets `[hidden] { display: none; }` but bootstrap.min.css set `[hidden] { display: none !important; }` so we also need the `!important` here to be able to override the default hidden behavior on the sphinx rendered scikit-learn.org. See: https://github.com/scikit-learn/scikit-learn/issues/21755 */display: inline-block !important;position: relative;}#sk-container-id-34 div.sk-text-repr-fallback {display: none;}</style><div id=\"sk-container-id-34\" class=\"sk-top-container\"><div class=\"sk-text-repr-fallback\"><pre>XGBRegressor(base_score=0.5, booster=&#x27;gbtree&#x27;, callbacks=None,\n",
       "             colsample_bylevel=1, colsample_bynode=1, colsample_bytree=1,\n",
       "             early_stopping_rounds=None, enable_categorical=False,\n",
       "             eval_metric=None, gamma=0, gpu_id=-1, grow_policy=&#x27;depthwise&#x27;,\n",
       "             importance_type=None, interaction_constraints=&#x27;&#x27;,\n",
       "             learning_rate=0.300000012, max_bin=256, max_cat_to_onehot=4,\n",
       "             max_delta_step=0, max_depth=6, max_leaves=0, min_child_weight=1,\n",
       "             missing=nan, monotone_constraints=&#x27;()&#x27;, n_estimators=100, n_jobs=0,\n",
       "             num_parallel_tree=1, predictor=&#x27;auto&#x27;, random_state=0, reg_alpha=0,\n",
       "             reg_lambda=1, ...)</pre><b>In a Jupyter environment, please rerun this cell to show the HTML representation or trust the notebook. <br />On GitHub, the HTML representation is unable to render, please try loading this page with nbviewer.org.</b></div><div class=\"sk-container\" hidden><div class=\"sk-item\"><div class=\"sk-estimator sk-toggleable\"><input class=\"sk-toggleable__control sk-hidden--visually\" id=\"sk-estimator-id-34\" type=\"checkbox\" checked><label for=\"sk-estimator-id-34\" class=\"sk-toggleable__label sk-toggleable__label-arrow\">XGBRegressor</label><div class=\"sk-toggleable__content\"><pre>XGBRegressor(base_score=0.5, booster=&#x27;gbtree&#x27;, callbacks=None,\n",
       "             colsample_bylevel=1, colsample_bynode=1, colsample_bytree=1,\n",
       "             early_stopping_rounds=None, enable_categorical=False,\n",
       "             eval_metric=None, gamma=0, gpu_id=-1, grow_policy=&#x27;depthwise&#x27;,\n",
       "             importance_type=None, interaction_constraints=&#x27;&#x27;,\n",
       "             learning_rate=0.300000012, max_bin=256, max_cat_to_onehot=4,\n",
       "             max_delta_step=0, max_depth=6, max_leaves=0, min_child_weight=1,\n",
       "             missing=nan, monotone_constraints=&#x27;()&#x27;, n_estimators=100, n_jobs=0,\n",
       "             num_parallel_tree=1, predictor=&#x27;auto&#x27;, random_state=0, reg_alpha=0,\n",
       "             reg_lambda=1, ...)</pre></div></div></div></div></div>"
      ],
      "text/plain": [
       "XGBRegressor(base_score=0.5, booster='gbtree', callbacks=None,\n",
       "             colsample_bylevel=1, colsample_bynode=1, colsample_bytree=1,\n",
       "             early_stopping_rounds=None, enable_categorical=False,\n",
       "             eval_metric=None, gamma=0, gpu_id=-1, grow_policy='depthwise',\n",
       "             importance_type=None, interaction_constraints='',\n",
       "             learning_rate=0.300000012, max_bin=256, max_cat_to_onehot=4,\n",
       "             max_delta_step=0, max_depth=6, max_leaves=0, min_child_weight=1,\n",
       "             missing=nan, monotone_constraints='()', n_estimators=100, n_jobs=0,\n",
       "             num_parallel_tree=1, predictor='auto', random_state=0, reg_alpha=0,\n",
       "             reg_lambda=1, ...)"
      ]
     },
     "metadata": {},
     "output_type": "display_data"
    }
   ],
   "source": [
    "# 아래에 실습코드를 작성하세요.\n",
    "from xgboost import XGBRegressor\n",
    "\n",
    "for i, (tr_x, tr_y, tx, ty) in enumerate(zip(train_x, train_y, test_x, test_y)):\n",
    "    xgb = XGBRegressor()\n",
    "    xgb.fit(tr_x, tr_y.ravel())\n",
    "    \n",
    "    pred_xgb = xgb.predict(tx)\n",
    "\n",
    "    print(explainer[i])        \n",
    "    print('RMSE: ', mean_squared_error(ty, pred_xgb, squared=False))\n",
    "    print('R-squared Score: ', r2_score(ty, pred_xgb))\n",
    "    print()"
   ]
  },
  {
   "cell_type": "markdown",
   "id": "persistent-brighton",
   "metadata": {},
   "source": [
    "### 다. LightGBM"
   ]
  },
  {
   "cell_type": "code",
   "execution_count": null,
   "metadata": {},
   "outputs": [
    {
     "data": {
      "text/html": [
       "<style>#sk-container-id-35 {color: black;background-color: white;}#sk-container-id-35 pre{padding: 0;}#sk-container-id-35 div.sk-toggleable {background-color: white;}#sk-container-id-35 label.sk-toggleable__label {cursor: pointer;display: block;width: 100%;margin-bottom: 0;padding: 0.3em;box-sizing: border-box;text-align: center;}#sk-container-id-35 label.sk-toggleable__label-arrow:before {content: \"▸\";float: left;margin-right: 0.25em;color: #696969;}#sk-container-id-35 label.sk-toggleable__label-arrow:hover:before {color: black;}#sk-container-id-35 div.sk-estimator:hover label.sk-toggleable__label-arrow:before {color: black;}#sk-container-id-35 div.sk-toggleable__content {max-height: 0;max-width: 0;overflow: hidden;text-align: left;background-color: #f0f8ff;}#sk-container-id-35 div.sk-toggleable__content pre {margin: 0.2em;color: black;border-radius: 0.25em;background-color: #f0f8ff;}#sk-container-id-35 input.sk-toggleable__control:checked~div.sk-toggleable__content {max-height: 200px;max-width: 100%;overflow: auto;}#sk-container-id-35 input.sk-toggleable__control:checked~label.sk-toggleable__label-arrow:before {content: \"▾\";}#sk-container-id-35 div.sk-estimator input.sk-toggleable__control:checked~label.sk-toggleable__label {background-color: #d4ebff;}#sk-container-id-35 div.sk-label input.sk-toggleable__control:checked~label.sk-toggleable__label {background-color: #d4ebff;}#sk-container-id-35 input.sk-hidden--visually {border: 0;clip: rect(1px 1px 1px 1px);clip: rect(1px, 1px, 1px, 1px);height: 1px;margin: -1px;overflow: hidden;padding: 0;position: absolute;width: 1px;}#sk-container-id-35 div.sk-estimator {font-family: monospace;background-color: #f0f8ff;border: 1px dotted black;border-radius: 0.25em;box-sizing: border-box;margin-bottom: 0.5em;}#sk-container-id-35 div.sk-estimator:hover {background-color: #d4ebff;}#sk-container-id-35 div.sk-parallel-item::after {content: \"\";width: 100%;border-bottom: 1px solid gray;flex-grow: 1;}#sk-container-id-35 div.sk-label:hover label.sk-toggleable__label {background-color: #d4ebff;}#sk-container-id-35 div.sk-serial::before {content: \"\";position: absolute;border-left: 1px solid gray;box-sizing: border-box;top: 0;bottom: 0;left: 50%;z-index: 0;}#sk-container-id-35 div.sk-serial {display: flex;flex-direction: column;align-items: center;background-color: white;padding-right: 0.2em;padding-left: 0.2em;position: relative;}#sk-container-id-35 div.sk-item {position: relative;z-index: 1;}#sk-container-id-35 div.sk-parallel {display: flex;align-items: stretch;justify-content: center;background-color: white;position: relative;}#sk-container-id-35 div.sk-item::before, #sk-container-id-35 div.sk-parallel-item::before {content: \"\";position: absolute;border-left: 1px solid gray;box-sizing: border-box;top: 0;bottom: 0;left: 50%;z-index: -1;}#sk-container-id-35 div.sk-parallel-item {display: flex;flex-direction: column;z-index: 1;position: relative;background-color: white;}#sk-container-id-35 div.sk-parallel-item:first-child::after {align-self: flex-end;width: 50%;}#sk-container-id-35 div.sk-parallel-item:last-child::after {align-self: flex-start;width: 50%;}#sk-container-id-35 div.sk-parallel-item:only-child::after {width: 0;}#sk-container-id-35 div.sk-dashed-wrapped {border: 1px dashed gray;margin: 0 0.4em 0.5em 0.4em;box-sizing: border-box;padding-bottom: 0.4em;background-color: white;}#sk-container-id-35 div.sk-label label {font-family: monospace;font-weight: bold;display: inline-block;line-height: 1.2em;}#sk-container-id-35 div.sk-label-container {text-align: center;}#sk-container-id-35 div.sk-container {/* jupyter's `normalize.less` sets `[hidden] { display: none; }` but bootstrap.min.css set `[hidden] { display: none !important; }` so we also need the `!important` here to be able to override the default hidden behavior on the sphinx rendered scikit-learn.org. See: https://github.com/scikit-learn/scikit-learn/issues/21755 */display: inline-block !important;position: relative;}#sk-container-id-35 div.sk-text-repr-fallback {display: none;}</style><div id=\"sk-container-id-35\" class=\"sk-top-container\"><div class=\"sk-text-repr-fallback\"><pre>LGBMRegressor()</pre><b>In a Jupyter environment, please rerun this cell to show the HTML representation or trust the notebook. <br />On GitHub, the HTML representation is unable to render, please try loading this page with nbviewer.org.</b></div><div class=\"sk-container\" hidden><div class=\"sk-item\"><div class=\"sk-estimator sk-toggleable\"><input class=\"sk-toggleable__control sk-hidden--visually\" id=\"sk-estimator-id-35\" type=\"checkbox\" checked><label for=\"sk-estimator-id-35\" class=\"sk-toggleable__label sk-toggleable__label-arrow\">LGBMRegressor</label><div class=\"sk-toggleable__content\"><pre>LGBMRegressor()</pre></div></div></div></div></div>"
      ],
      "text/plain": [
       "LGBMRegressor()"
      ]
     },
     "metadata": {},
     "output_type": "display_data"
    }
   ],
   "source": [
    "import lightgbm as lgb\n",
    "\n",
    "for i, (tr_x, tr_y, tx, ty) in enumerate(zip(train_x, train_y, test_x, test_y)):\n",
    "    lgbm = lgb.LGBMRegressor()\n",
    "    lgbm.fit(tr_x, tr_y.ravel())\n",
    "    \n",
    "    pred_lgbm = lgbm.predict(tx)\n",
    "\n",
    "    print(explainer[i])        \n",
    "    print('RMSE: ', mean_squared_error(ty, pred_lgbm, squared=False))\n",
    "    print('R-squared Score: ', r2_score(ty, pred_lgbm))\n",
    "    print()"
   ]
  },
  {
   "cell_type": "markdown",
   "id": "persistent-brighton",
   "metadata": {},
   "source": [
    "### 라. CatBoost"
   ]
  },
  {
   "cell_type": "code",
   "execution_count": null,
   "metadata": {},
   "outputs": [],
   "source": [
    "import catboost\n",
    "\n",
    "for i, (tr_x, tr_y, tx, ty) in enumerate(zip(train_x, train_y, test_x, test_y)):\n",
    "    cb = catboost.CatBoostRegressor()\n",
    "    cb.fit(tr_x, tr_y.ravel())\n",
    "    \n",
    "    pred_cb = cb.predict(tx)\n",
    "\n",
    "    print(explainer[i])        \n",
    "    print('RMSE: ', mean_squared_error(ty, pred_cb, squared=False))\n",
    "    print('R-squared Score: ', r2_score(ty, pred_cb))\n",
    "    print()"
   ]
  }
 ],
 "metadata": {
  "kernelspec": {
   "display_name": "Python 3.10.7 64-bit",
   "language": "python",
   "name": "python3"
  },
  "language_info": {
   "codemirror_mode": {
    "name": "ipython",
    "version": 3
   },
   "file_extension": ".py",
   "mimetype": "text/x-python",
   "name": "python",
   "nbconvert_exporter": "python",
   "pygments_lexer": "ipython3",
   "version": "3.10.7"
  },
  "orig_nbformat": 4,
  "vscode": {
   "interpreter": {
    "hash": "23c67d85f209742c672c1b7fd95247539f09df0e36c0a91a355481fa2e35a8db"
   }
  }
 },
 "nbformat": 4,
 "nbformat_minor": 2
}
