{
 "cells": [
  {
   "cell_type": "markdown",
   "id": "bright-evolution",
   "metadata": {},
   "source": [
    "# (실습준비) 데이터 불러오기부터\n",
    "\n",
    "* 17년도부터 21년도 까지의 데이터를 train set, 22년도의 6개월치 데이터를 test set 으로 설정합니다."
   ]
  },
  {
   "cell_type": "code",
   "execution_count": 1,
   "id": "innocent-token",
   "metadata": {},
   "outputs": [],
   "source": [
    "import pandas as pd\n",
    "\n",
    "# 학습 데이터 로딩\n",
    "df_total = pd.read_csv('./data/df_total.csv')\n",
    "df_test = pd.read_csv('./data/df_test.csv')"
   ]
  },
  {
   "cell_type": "code",
   "execution_count": 2,
   "metadata": {},
   "outputs": [],
   "source": [
    "df_total = pd.concat([df_total, df_test], axis=0)"
   ]
  },
  {
   "cell_type": "markdown",
   "id": "89892756",
   "metadata": {},
   "source": [
    "#### [실습문제1] 열 추가 \n",
    "* 기존 '기준일ID'열에서 날짜 데이터를 추출하여 새로운 열로 추가 합니다.\n",
    "    - pd.to_datetime() 함수를 사용해 '기준일ID'열을 datetime 형식으로 변경하겠습니다.\n",
    "    - year, month, day 열로 기존 데이터 프레임에 연월일 정보를 저장합니다.\n",
    "    - 데이터 프레임 열에 대해 날짜 정보를 얻을 때에는 **dt.year**, **dt.month**, **dt.day** 속성을 사용합니다. "
   ]
  },
  {
   "cell_type": "code",
   "execution_count": 3,
   "id": "0557335c",
   "metadata": {},
   "outputs": [],
   "source": [
    "df_total['기준일ID'] = pd.to_datetime(df_total['기준일ID'])\n",
    "\n",
    "df_total['year']=df_total['기준일ID'].dt.year\n",
    "df_total['month']=df_total['기준일ID'].dt.month\n",
    "df_total['day']=df_total['기준일ID'].dt.day"
   ]
  },
  {
   "cell_type": "markdown",
   "id": "fefaf235",
   "metadata": {},
   "source": [
    "#### [실습문제2] 불필요한 열 제거 및 열 이름 변경\n",
    "* df_total과 df_test에서 '총생활인구수'외에 불필요한 열을 제거 하도록 하겠습니다.\n",
    "* 시간 데이터를 남기고, '시간대구분' column 을 'hour'로 rename 하도록 하겠습니다. "
   ]
  },
  {
   "cell_type": "code",
   "execution_count": 4,
   "id": "2f024b9b",
   "metadata": {},
   "outputs": [],
   "source": [
    "# 아래에 실습코드를 작성하고 결과를 확인합니다.\n",
    "df_total.rename(columns={'시간대구분': 'hour'}, inplace=True)\n",
    "df_total = df_total.loc[:, ['year', 'month', 'day', 'hour', '총생활인구수']].copy()"
   ]
  },
  {
   "cell_type": "markdown",
   "id": "fefaf235",
   "metadata": {},
   "source": [
    "#### [실습문제3] 시프트 & 롤링\n",
    "* shift()를 활용하여 이동할 행 수를 지정합니다.\n",
    "* rolling()을 활용하여 추가할 이동평균 수를 지정합니다."
   ]
  },
  {
   "cell_type": "code",
   "execution_count": 5,
   "id": "60c1c633",
   "metadata": {},
   "outputs": [],
   "source": [
    "# 아래에 실습코드를 작성하고 결과를 확인합니다.\n",
    "df_total['총생활인구수_D+7'] = df_total['총생활인구수'].shift(-168) # 7일 후 동일 시간대의 총 생활인구수\n",
    "df_total['총생활인구수_M+1'] = df_total['총생활인구수'].shift(-720) # 1개월(30일) 후 동일 시간대의 총 생활인구수\n",
    "df_total['총생활인구수_M+2'] = df_total['총생활인구수'].shift(-1416) # 2개월 후 동일 시간대의 총 생활인구수\n",
    "df_total['총생활인구수_Y+1'] = df_total['총생활인구수'].shift(-8760) # 1년 후 동일 시간대의 총 생활인구수"
   ]
  },
  {
   "cell_type": "code",
   "execution_count": null,
   "metadata": {},
   "outputs": [],
   "source": [
    "# 아래에 실습코드를 작성하고 결과를 확인합니다.\n",
    "# df_total['총생활인구수_MA_168'] = df_total['총생활인구수'].rolling(168).mean() # 기준일 포함 최근 7일간 이동 평균"
   ]
  },
  {
   "cell_type": "markdown",
   "id": "combined-python",
   "metadata": {},
   "source": [
    "#### [실습문제4] 결측치 처리 및 불필요한 열 제거\n",
    "* 롤링 & 시프트 과정에서 발생한 결측치를 처리하도록 하겠습니다.\n",
    "* 불필요한 열을 추가로 제거 하겠습니다.(시간 관련 행들)"
   ]
  },
  {
   "cell_type": "code",
   "execution_count": 6,
   "id": "driven-optimization",
   "metadata": {},
   "outputs": [],
   "source": [
    "# 아래에 실습코드를 작성하고 결과를 확인합니다.\n",
    "cols = ['year', 'month', 'day', 'hour']\n",
    "\n",
    "df_total.drop(cols, axis=1, inplace=True)"
   ]
  },
  {
   "cell_type": "code",
   "execution_count": 7,
   "metadata": {},
   "outputs": [
    {
     "data": {
      "text/html": [
       "<div>\n",
       "<style scoped>\n",
       "    .dataframe tbody tr th:only-of-type {\n",
       "        vertical-align: middle;\n",
       "    }\n",
       "\n",
       "    .dataframe tbody tr th {\n",
       "        vertical-align: top;\n",
       "    }\n",
       "\n",
       "    .dataframe thead th {\n",
       "        text-align: right;\n",
       "    }\n",
       "</style>\n",
       "<table border=\"1\" class=\"dataframe\">\n",
       "  <thead>\n",
       "    <tr style=\"text-align: right;\">\n",
       "      <th></th>\n",
       "      <th>총생활인구수</th>\n",
       "      <th>총생활인구수_D+7</th>\n",
       "      <th>총생활인구수_M+1</th>\n",
       "      <th>총생활인구수_M+2</th>\n",
       "      <th>총생활인구수_Y+1</th>\n",
       "    </tr>\n",
       "  </thead>\n",
       "  <tbody>\n",
       "    <tr>\n",
       "      <th>0</th>\n",
       "      <td>31535.2200</td>\n",
       "      <td>30716.3268</td>\n",
       "      <td>30539.0226</td>\n",
       "      <td>31209.1023</td>\n",
       "      <td>36514.0589</td>\n",
       "    </tr>\n",
       "    <tr>\n",
       "      <th>1</th>\n",
       "      <td>31188.9174</td>\n",
       "      <td>30673.4813</td>\n",
       "      <td>30445.4356</td>\n",
       "      <td>30334.7708</td>\n",
       "      <td>37128.7367</td>\n",
       "    </tr>\n",
       "    <tr>\n",
       "      <th>2</th>\n",
       "      <td>31240.4974</td>\n",
       "      <td>30535.9573</td>\n",
       "      <td>30571.1750</td>\n",
       "      <td>30558.3055</td>\n",
       "      <td>37799.9458</td>\n",
       "    </tr>\n",
       "    <tr>\n",
       "      <th>3</th>\n",
       "      <td>31442.4314</td>\n",
       "      <td>30884.0372</td>\n",
       "      <td>30661.7845</td>\n",
       "      <td>30789.1289</td>\n",
       "      <td>38004.9325</td>\n",
       "    </tr>\n",
       "    <tr>\n",
       "      <th>4</th>\n",
       "      <td>31922.7751</td>\n",
       "      <td>31353.9409</td>\n",
       "      <td>31212.8186</td>\n",
       "      <td>31420.6076</td>\n",
       "      <td>38744.0673</td>\n",
       "    </tr>\n",
       "  </tbody>\n",
       "</table>\n",
       "</div>"
      ],
      "text/plain": [
       "       총생활인구수  총생활인구수_D+7  총생활인구수_M+1  총생활인구수_M+2  총생활인구수_Y+1\n",
       "0  31535.2200  30716.3268  30539.0226  31209.1023  36514.0589\n",
       "1  31188.9174  30673.4813  30445.4356  30334.7708  37128.7367\n",
       "2  31240.4974  30535.9573  30571.1750  30558.3055  37799.9458\n",
       "3  31442.4314  30884.0372  30661.7845  30789.1289  38004.9325\n",
       "4  31922.7751  31353.9409  31212.8186  31420.6076  38744.0673"
      ]
     },
     "execution_count": 7,
     "metadata": {},
     "output_type": "execute_result"
    }
   ],
   "source": [
    "df_total.head()"
   ]
  },
  {
   "cell_type": "code",
   "execution_count": 8,
   "metadata": {},
   "outputs": [],
   "source": [
    "dataset_1 = df_total.loc[:, ['총생활인구수', '총생활인구수_D+7']].copy() # 7일 후의 생활인구수 예측\n",
    "dataset_2 = df_total.loc[:, ['총생활인구수', '총생활인구수_M+1']].copy() # 1달 후의 생활인구수 예측\n",
    "dataset_3 = df_total.loc[:, ['총생활인구수', '총생활인구수_M+2']].copy() # 2달 후의 생활인구수 예측\n",
    "dataset_4 = df_total.loc[:, ['총생활인구수', '총생활인구수_Y+1']].copy() # 1년 후의 생활인구수 예측"
   ]
  },
  {
   "cell_type": "code",
   "execution_count": 9,
   "id": "de88e130",
   "metadata": {},
   "outputs": [],
   "source": [
    "# 아래에 실습코드를 작성하고 결과를 확인합니다.\n",
    "dataset_1.dropna(axis=0, inplace=True)\n",
    "dataset_2.dropna(axis=0, inplace=True)\n",
    "dataset_3.dropna(axis=0, inplace=True)\n",
    "dataset_4.dropna(axis=0, inplace=True)"
   ]
  },
  {
   "cell_type": "markdown",
   "id": "dependent-motion",
   "metadata": {},
   "source": [
    "#### [실습문제5] train, test 데이터 나누기\n",
    "* df_total과 df_test를 각각 train_x, train_y, test_x, test_y 로 나누어 주세요.\n",
    "* 인덱스를 리셋 해주세요."
   ]
  },
  {
   "cell_type": "code",
   "execution_count": 10,
   "metadata": {},
   "outputs": [],
   "source": [
    "from sklearn.model_selection import train_test_split"
   ]
  },
  {
   "cell_type": "code",
   "execution_count": 20,
   "id": "92652b6b",
   "metadata": {},
   "outputs": [],
   "source": [
    "# 아래에 실습코드를 작성하고 결과를 확인합니다.\n",
    "x_1 = dataset_1['총생활인구수'].values\n",
    "y_1 = dataset_1['총생활인구수_D+7'].values\n",
    "\n",
    "train_x_1, test_x_1, train_y_1, test_y_1 = train_test_split(x_1, y_1, test_size=.2)"
   ]
  },
  {
   "cell_type": "code",
   "execution_count": 21,
   "id": "92652b6b",
   "metadata": {},
   "outputs": [],
   "source": [
    "# 아래에 실습코드를 작성하고 결과를 확인합니다.\n",
    "x_2 = dataset_2['총생활인구수'].values\n",
    "y_2 = dataset_2['총생활인구수_M+1'].values\n",
    "\n",
    "train_x_2, test_x_2, train_y_2, test_y_2 = train_test_split(x_2, y_2, test_size=.2)"
   ]
  },
  {
   "cell_type": "code",
   "execution_count": 22,
   "id": "92652b6b",
   "metadata": {},
   "outputs": [],
   "source": [
    "# 아래에 실습코드를 작성하고 결과를 확인합니다.\n",
    "x_3 = dataset_3['총생활인구수'].values\n",
    "y_3 = dataset_3['총생활인구수_M+2'].values\n",
    "\n",
    "train_x_3, test_x_3, train_y_3, test_y_3 = train_test_split(x_3, y_3, test_size=.2)"
   ]
  },
  {
   "cell_type": "code",
   "execution_count": 23,
   "id": "92652b6b",
   "metadata": {},
   "outputs": [],
   "source": [
    "# 아래에 실습코드를 작성하고 결과를 확인합니다.\n",
    "x_4 = dataset_4['총생활인구수'].values\n",
    "y_4 = dataset_4['총생활인구수_Y+1'].values\n",
    "\n",
    "train_x_4, test_x_4, train_y_4, test_y_4 = train_test_split(x_4, y_4, test_size=.2)"
   ]
  },
  {
   "cell_type": "code",
   "execution_count": 24,
   "metadata": {},
   "outputs": [],
   "source": [
    "train_x = [train_x_1, train_x_2, train_x_3, train_x_4]\n",
    "train_y = [train_y_1, train_y_2, train_y_3, train_y_4]\n",
    "test_x = [test_x_1, test_x_2, test_x_3, test_x_4]\n",
    "test_y = [test_y_1,test_y_2, test_y_3, test_y_4]"
   ]
  },
  {
   "cell_type": "markdown",
   "metadata": {},
   "source": [
    "----"
   ]
  },
  {
   "cell_type": "markdown",
   "id": "persistent-brighton",
   "metadata": {},
   "source": [
    "### 가. LinearRegression 부터 시작해봅시다."
   ]
  },
  {
   "cell_type": "markdown",
   "id": "joined-client",
   "metadata": {},
   "source": [
    "#### [실습문제1] 머신러닝_1\n",
    "* Train과 Test로 나눈 데이터를 기준으로 LinearRegression 모델링을 진행하고 평가를 해주세요.\n",
    "* 성능지표 : RMSE, R-squared Score"
   ]
  },
  {
   "cell_type": "code",
   "execution_count": 25,
   "id": "b49c4fb9",
   "metadata": {},
   "outputs": [],
   "source": [
    "# 아래에 실습코드를 작성하고 결과를 확인합니다.\n",
    "from sklearn.linear_model import LinearRegression\n",
    "from sklearn.metrics import *"
   ]
  },
  {
   "cell_type": "code",
   "execution_count": 33,
   "id": "0a21d60f",
   "metadata": {},
   "outputs": [
    {
     "name": "stdout",
     "output_type": "stream",
     "text": [
      "--- 7일 후의 생활인구수 예측 ---\n",
      "RMSE:  1776.69081227391\n",
      "R-squared Score:  0.8256857440269225\n",
      "\n",
      "--- 1달 후의 생활인구수 예측 ---\n",
      "RMSE:  2938.0656059078483\n",
      "R-squared Score:  0.5312835971594729\n",
      "\n",
      "--- 2달 후의 생활인구수 예측 ---\n",
      "RMSE:  3194.7571725818657\n",
      "R-squared Score:  0.44337793328743624\n",
      "\n",
      "--- 1년 후의 생활인구수 예측 ---\n",
      "RMSE:  3575.1304944341878\n",
      "R-squared Score:  0.29243453783871876\n",
      "\n"
     ]
    }
   ],
   "source": [
    "# 아래에 실습코드를 작성하세요.\n",
    "for i, (tx, ty, ttx, tty) in enumerate(zip(train_x, train_y, test_x, test_y)):\n",
    "    lr = LinearRegression()\n",
    "    lr.fit(tx.reshape(-1, 1), ty)\n",
    "    \n",
    "    pred_lr = lr.predict(ttx.reshape(-1, 1))\n",
    "\n",
    "    if i==0:\n",
    "        print('--- 7일 후의 생활인구수 예측 ---')\n",
    "    elif i==1:\n",
    "        print('--- 1달 후의 생활인구수 예측 ---')\n",
    "    elif i==2:\n",
    "        print('--- 2달 후의 생활인구수 예측 ---')\n",
    "    else:\n",
    "        print('--- 1년 후의 생활인구수 예측 ---')\n",
    "        \n",
    "    print('RMSE: ', mean_squared_error(tty, pred_lr, squared=False))\n",
    "    print('R-squared Score: ', r2_score(tty, pred_lr))\n",
    "    print()"
   ]
  },
  {
   "cell_type": "markdown",
   "id": "dense-eleven",
   "metadata": {},
   "source": [
    "#### [실습문제2] 머신러닝_2\n",
    "* Train과 Test로 나눈 데이터를 기준으로 렌덤포레스트로 모델을 학습을 진행하고 평가를 해주세요.\n",
    "* 성능지표 : RMSE, R-squared Score"
   ]
  },
  {
   "cell_type": "code",
   "execution_count": 34,
   "metadata": {},
   "outputs": [],
   "source": [
    "from sklearn.ensemble import RandomForestRegressor"
   ]
  },
  {
   "cell_type": "code",
   "execution_count": 35,
   "metadata": {},
   "outputs": [
    {
     "name": "stdout",
     "output_type": "stream",
     "text": [
      "--- 7일 후의 생활인구수 예측 ---\n",
      "RMSE:  2086.887958968078\n",
      "R-squared Score:  0.7595042200749691\n",
      "\n",
      "--- 1달 후의 생활인구수 예측 ---\n",
      "RMSE:  3494.5976335812275\n",
      "R-squared Score:  0.336896178767786\n",
      "\n",
      "--- 2달 후의 생활인구수 예측 ---\n",
      "RMSE:  3829.354844942175\n",
      "R-squared Score:  0.20028372298524977\n",
      "\n",
      "--- 1년 후의 생활인구수 예측 ---\n",
      "RMSE:  4245.643265085746\n",
      "R-squared Score:  0.0021395044513651262\n",
      "\n"
     ]
    }
   ],
   "source": [
    "# 아래에 실습코드를 작성하세요.\n",
    "for i, (tx, ty, ttx, tty) in enumerate(zip(train_x, train_y, test_x, test_y)):\n",
    "    rf = RandomForestRegressor()\n",
    "    rf.fit(tx.reshape(-1, 1), ty)\n",
    "    \n",
    "    pred_rf = rf.predict(ttx.reshape(-1, 1))\n",
    "\n",
    "    if i==0:\n",
    "        print('--- 7일 후의 생활인구수 예측 ---')\n",
    "    elif i==1:\n",
    "        print('--- 1달 후의 생활인구수 예측 ---')\n",
    "    elif i==2:\n",
    "        print('--- 2달 후의 생활인구수 예측 ---')\n",
    "    else:\n",
    "        print('--- 1년 후의 생활인구수 예측 ---')\n",
    "        \n",
    "    print('RMSE: ', mean_squared_error(tty, pred_rf, squared=False))\n",
    "    print('R-squared Score: ', r2_score(tty, pred_rf))\n",
    "    print()"
   ]
  },
  {
   "cell_type": "markdown",
   "id": "needed-google",
   "metadata": {},
   "source": [
    "#### [실습문제3] 머신러닝_3\n",
    "* Train과 Test로 나눈 데이터를 기준으로 그라디언트부스팅으로 모델을 학습을 진행하고 평가를 해주세요.\n",
    "* 성능지표 : RMSE, R-squared Score"
   ]
  },
  {
   "cell_type": "code",
   "execution_count": 36,
   "metadata": {},
   "outputs": [],
   "source": [
    "from xgboost import XGBRegressor"
   ]
  },
  {
   "cell_type": "code",
   "execution_count": 37,
   "metadata": {},
   "outputs": [
    {
     "name": "stdout",
     "output_type": "stream",
     "text": [
      "--- 7일 후의 생활인구수 예측 ---\n",
      "RMSE:  1763.9992776997028\n",
      "R-squared Score:  0.8281672266948278\n",
      "\n",
      "--- 1달 후의 생활인구수 예측 ---\n",
      "RMSE:  2921.1679095342\n",
      "R-squared Score:  0.5366595504009777\n",
      "\n",
      "--- 2달 후의 생활인구수 예측 ---\n",
      "RMSE:  3189.933334670412\n",
      "R-squared Score:  0.44505757738538154\n",
      "\n",
      "--- 1년 후의 생활인구수 예측 ---\n",
      "RMSE:  3547.7526173504066\n",
      "R-squared Score:  0.3032299298115201\n",
      "\n"
     ]
    }
   ],
   "source": [
    "# 아래에 실습코드를 작성하세요.\n",
    "for i, (tx, ty, ttx, tty) in enumerate(zip(train_x, train_y, test_x, test_y)):\n",
    "    xgb = XGBRegressor()\n",
    "    xgb.fit(tx.reshape(-1, 1), ty)\n",
    "    \n",
    "    pred_xgb = xgb.predict(ttx.reshape(-1, 1))\n",
    "\n",
    "    if i==0:\n",
    "        print('--- 7일 후의 생활인구수 예측 ---')\n",
    "    elif i==1:\n",
    "        print('--- 1달 후의 생활인구수 예측 ---')\n",
    "    elif i==2:\n",
    "        print('--- 2달 후의 생활인구수 예측 ---')\n",
    "    else:\n",
    "        print('--- 1년 후의 생활인구수 예측 ---')\n",
    "        \n",
    "    print('RMSE: ', mean_squared_error(tty, pred_xgb, squared=False))\n",
    "    print('R-squared Score: ', r2_score(tty, pred_xgb))\n",
    "    print()"
   ]
  },
  {
   "cell_type": "markdown",
   "metadata": {},
   "source": [
    "----"
   ]
  }
 ],
 "metadata": {
  "kernelspec": {
   "display_name": "Python 3.10.7 64-bit",
   "language": "python",
   "name": "python3"
  },
  "language_info": {
   "codemirror_mode": {
    "name": "ipython",
    "version": 3
   },
   "file_extension": ".py",
   "mimetype": "text/x-python",
   "name": "python",
   "nbconvert_exporter": "python",
   "pygments_lexer": "ipython3",
   "version": "3.10.7"
  },
  "orig_nbformat": 4,
  "vscode": {
   "interpreter": {
    "hash": "23c67d85f209742c672c1b7fd95247539f09df0e36c0a91a355481fa2e35a8db"
   }
  }
 },
 "nbformat": 4,
 "nbformat_minor": 2
}
