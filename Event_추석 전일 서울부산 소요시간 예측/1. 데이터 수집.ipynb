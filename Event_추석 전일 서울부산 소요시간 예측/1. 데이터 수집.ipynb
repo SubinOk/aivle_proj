{
 "cells": [
  {
   "cell_type": "markdown",
   "metadata": {},
   "source": [
    "## 추석 전일('22.09.09) 12시(정오) 고속도로 서울TG 출발 -> 부산 TG 도착 소요시간 예측"
   ]
  },
  {
   "cell_type": "markdown",
   "metadata": {},
   "source": [
    "- 기준: 한국도로공사 '도시 간 소요시간(서울-주요도시)' 제공 추석전일('22.09.09) 12시 정오 고속도로 서울-부산 이동시간 최근접 소요시간 예측자\n",
    "- 응모 양식:\n",
    "    - 예측 소요시간(txt): 제출하기 태 내 '시:분 소요' 기입\n",
    "    - 분석 데이터 결과(.ipynb): 실행하여 결과가 포함된 파일\n",
    "    - 분석 설명서(.pptx): 가설 및 데이터 설명 PPT 1장(자유양식)\n"
   ]
  },
  {
   "cell_type": "code",
   "execution_count": 1,
   "metadata": {},
   "outputs": [],
   "source": [
    "import numpy as np\n",
    "import pandas as pd\n",
    "\n",
    "import requests, json\n",
    "\n",
    "import warnings\n",
    "warnings.filterwarnings('ignore')"
   ]
  },
  {
   "cell_type": "code",
   "execution_count": 2,
   "metadata": {},
   "outputs": [],
   "source": [
    "# user_key = ''"
   ]
  },
  {
   "cell_type": "markdown",
   "metadata": {},
   "source": [
    "### 1. 도시간 이동 소요 시간(2016년 이후)"
   ]
  },
  {
   "cell_type": "code",
   "execution_count": 3,
   "metadata": {},
   "outputs": [],
   "source": [
    "def getIntercity(year, page):\n",
    "    url = 'http://data.ex.co.kr/openapi/specialAnal/intercityLeadTime'\n",
    "    params = {'key': user_key,\n",
    "              'type': 'json',\n",
    "              'iYear': str(year),    # 기준년도\n",
    "              'iStUnitCode': '101',  # 서울TG 영업소 코드\n",
    "              'iEdUnitCode': '140',  # 부산TG 영업소 코드\n",
    "              'numOfRows': '50',     # 출력 건수(최대 99)\n",
    "              'pageNo': str(page)    # 출력 페이지번호\n",
    "             }\n",
    "    response = requests.get(url, params)\n",
    "    return response.json()['intercityLeadTimeLists']"
   ]
  },
  {
   "cell_type": "code",
   "execution_count": 4,
   "metadata": {},
   "outputs": [
    {
     "name": "stdout",
     "output_type": "stream",
     "text": [
      "2016년 1번째 데이터 수집 완료\n",
      "2016년 2번째 데이터 수집 완료\n",
      "2017년 1번째 데이터 수집 완료\n",
      "2017년 2번째 데이터 수집 완료\n",
      "2017년 3번째 데이터 수집 완료\n",
      "2017년 4번째 데이터 수집 완료\n",
      "2018년 1번째 데이터 수집 완료\n",
      "2018년 2번째 데이터 수집 완료\n",
      "2018년 3번째 데이터 수집 완료\n",
      "2018년 4번째 데이터 수집 완료\n",
      "2018년 5번째 데이터 수집 완료\n",
      "2018년 6번째 데이터 수집 완료\n",
      "2018년 7번째 데이터 수집 완료\n",
      "2018년 8번째 데이터 수집 완료\n",
      "2018년 9번째 데이터 수집 완료\n",
      "2019년 1번째 데이터 수집 완료\n",
      "2019년 2번째 데이터 수집 완료\n",
      "2019년 3번째 데이터 수집 완료\n",
      "2019년 4번째 데이터 수집 완료\n",
      "2019년 5번째 데이터 수집 완료\n",
      "2019년 6번째 데이터 수집 완료\n",
      "2019년 7번째 데이터 수집 완료\n",
      "2019년 8번째 데이터 수집 완료\n",
      "2020년 1번째 데이터 수집 완료\n",
      "2020년 2번째 데이터 수집 완료\n",
      "2020년 3번째 데이터 수집 완료\n",
      "2020년 4번째 데이터 수집 완료\n",
      "2020년 5번째 데이터 수집 완료\n",
      "2020년 6번째 데이터 수집 완료\n",
      "2020년 7번째 데이터 수집 완료\n",
      "2020년 8번째 데이터 수집 완료\n",
      "2020년 9번째 데이터 수집 완료\n",
      "2021년 1번째 데이터 수집 완료\n",
      "2021년 2번째 데이터 수집 완료\n",
      "2021년 3번째 데이터 수집 완료\n",
      "2021년 4번째 데이터 수집 완료\n",
      "2021년 5번째 데이터 수집 완료\n",
      "2021년 6번째 데이터 수집 완료\n",
      "2021년 7번째 데이터 수집 완료\n",
      "2021년 8번째 데이터 수집 완료\n",
      "2021년 9번째 데이터 수집 완료\n",
      "2022년 1번째 데이터 수집 완료\n",
      "2022년 2번째 데이터 수집 완료\n",
      "2022년 3번째 데이터 수집 완료\n",
      "2022년 4번째 데이터 수집 완료\n",
      "2022년 5번째 데이터 수집 완료\n",
      "2022년 6번째 데이터 수집 완료\n"
     ]
    }
   ],
   "source": [
    "cols = ['stdYear', 'sphlDfttNm', 'sphlDfttScopTypeNm', 'stdHour', 'trtm']\n",
    "intercity = pd.DataFrame(columns=cols)\n",
    "i = 0\n",
    "\n",
    "for y in range(2016, 2023):\n",
    "    p = 1\n",
    "    while True:\n",
    "        data = getIntercity(y, p)\n",
    "        i = len(data)\n",
    "        \n",
    "        if i == 0:\n",
    "            break\n",
    "        else:\n",
    "            print(f'{y}년 {p}번째 데이터 수집 완료')\n",
    "            df = pd.DataFrame(data)[cols]\n",
    "            intercity = pd.concat([intercity, df], axis=0)\n",
    "            p += 1"
   ]
  },
  {
   "cell_type": "code",
   "execution_count": 5,
   "metadata": {},
   "outputs": [],
   "source": [
    "intercity.columns = ['기준년도', '특수일', '특송기간', '기준시', '통행시간(분)']"
   ]
  },
  {
   "cell_type": "code",
   "execution_count": 6,
   "metadata": {},
   "outputs": [
    {
     "data": {
      "text/html": [
       "<div>\n",
       "<style scoped>\n",
       "    .dataframe tbody tr th:only-of-type {\n",
       "        vertical-align: middle;\n",
       "    }\n",
       "\n",
       "    .dataframe tbody tr th {\n",
       "        vertical-align: top;\n",
       "    }\n",
       "\n",
       "    .dataframe thead th {\n",
       "        text-align: right;\n",
       "    }\n",
       "</style>\n",
       "<table border=\"1\" class=\"dataframe\">\n",
       "  <thead>\n",
       "    <tr style=\"text-align: right;\">\n",
       "      <th></th>\n",
       "      <th>기준년도</th>\n",
       "      <th>특수일</th>\n",
       "      <th>특송기간</th>\n",
       "      <th>기준시</th>\n",
       "      <th>통행시간(분)</th>\n",
       "    </tr>\n",
       "  </thead>\n",
       "  <tbody>\n",
       "    <tr>\n",
       "      <th>0</th>\n",
       "      <td>2016</td>\n",
       "      <td>연말연시</td>\n",
       "      <td>D</td>\n",
       "      <td>00</td>\n",
       "      <td>325.377666666666666666666666</td>\n",
       "    </tr>\n",
       "    <tr>\n",
       "      <th>1</th>\n",
       "      <td>2016</td>\n",
       "      <td>연말연시</td>\n",
       "      <td>D</td>\n",
       "      <td>01</td>\n",
       "      <td>321.183000000000000000000000</td>\n",
       "    </tr>\n",
       "    <tr>\n",
       "      <th>2</th>\n",
       "      <td>2016</td>\n",
       "      <td>연말연시</td>\n",
       "      <td>D</td>\n",
       "      <td>02</td>\n",
       "      <td>315.688666666666666666666666</td>\n",
       "    </tr>\n",
       "    <tr>\n",
       "      <th>3</th>\n",
       "      <td>2016</td>\n",
       "      <td>연말연시</td>\n",
       "      <td>D</td>\n",
       "      <td>03</td>\n",
       "      <td>309.322000000000000000000000</td>\n",
       "    </tr>\n",
       "    <tr>\n",
       "      <th>4</th>\n",
       "      <td>2016</td>\n",
       "      <td>연말연시</td>\n",
       "      <td>D</td>\n",
       "      <td>04</td>\n",
       "      <td>299.949333333333333333333333</td>\n",
       "    </tr>\n",
       "  </tbody>\n",
       "</table>\n",
       "</div>"
      ],
      "text/plain": [
       "   기준년도   특수일 특송기간 기준시                       통행시간(분)\n",
       "0  2016  연말연시    D  00  325.377666666666666666666666\n",
       "1  2016  연말연시    D  01  321.183000000000000000000000\n",
       "2  2016  연말연시    D  02  315.688666666666666666666666\n",
       "3  2016  연말연시    D  03  309.322000000000000000000000\n",
       "4  2016  연말연시    D  04  299.949333333333333333333333"
      ]
     },
     "execution_count": 6,
     "metadata": {},
     "output_type": "execute_result"
    }
   ],
   "source": [
    "intercity.head()"
   ]
  },
  {
   "cell_type": "code",
   "execution_count": 7,
   "metadata": {},
   "outputs": [],
   "source": [
    "intercity.to_csv('./rawdata/intercity_raw.csv', index=False)"
   ]
  },
  {
   "cell_type": "markdown",
   "metadata": {},
   "source": [
    "### 2. 시간대 별 교통량"
   ]
  },
  {
   "cell_type": "code",
   "execution_count": 8,
   "metadata": {},
   "outputs": [],
   "source": [
    "def getTraffic(year):\n",
    "    url = 'http://data.ex.co.kr/openapi/specialAnal/trafficFlowByTime'\n",
    "    params = {'key': user_key,\n",
    "              'type': 'json',\n",
    "              'iStdYear': str(year),    # 기준년도\n",
    "             }\n",
    "    response = requests.get(url, params)\n",
    "    return response.json()['trafficFlowByTimeLists']"
   ]
  },
  {
   "cell_type": "code",
   "execution_count": 9,
   "metadata": {},
   "outputs": [
    {
     "name": "stdout",
     "output_type": "stream",
     "text": [
      "2016년 데이터 수집 완료\n",
      "2017년 데이터 수집 완료\n",
      "2018년 데이터 수집 완료\n",
      "2019년 데이터 수집 완료\n",
      "2020년 데이터 수집 완료\n",
      "2021년 데이터 수집 완료\n",
      "2022년 데이터 수집 완료\n"
     ]
    }
   ],
   "source": [
    "cols = ['stdYear', 'sphlDfttNm', 'sphlDfttScopTypeNm', 'stdHour', 'trfl']\n",
    "traffic = pd.DataFrame(columns=cols)\n",
    "\n",
    "for y in range(2016, 2023):\n",
    "        data = getTraffic(y)\n",
    "        print(f'{y}년 데이터 수집 완료')\n",
    "        df = pd.DataFrame(data)[cols]\n",
    "        traffic = pd.concat([traffic, df], axis=0)"
   ]
  },
  {
   "cell_type": "code",
   "execution_count": 10,
   "metadata": {},
   "outputs": [],
   "source": [
    "traffic.columns = ['기준년도', '특수일', '특송기간', '기준시', '교통량(대)']"
   ]
  },
  {
   "cell_type": "code",
   "execution_count": 11,
   "metadata": {},
   "outputs": [
    {
     "data": {
      "text/html": [
       "<div>\n",
       "<style scoped>\n",
       "    .dataframe tbody tr th:only-of-type {\n",
       "        vertical-align: middle;\n",
       "    }\n",
       "\n",
       "    .dataframe tbody tr th {\n",
       "        vertical-align: top;\n",
       "    }\n",
       "\n",
       "    .dataframe thead th {\n",
       "        text-align: right;\n",
       "    }\n",
       "</style>\n",
       "<table border=\"1\" class=\"dataframe\">\n",
       "  <thead>\n",
       "    <tr style=\"text-align: right;\">\n",
       "      <th></th>\n",
       "      <th>기준년도</th>\n",
       "      <th>특수일</th>\n",
       "      <th>특송기간</th>\n",
       "      <th>기준시</th>\n",
       "      <th>교통량(대)</th>\n",
       "    </tr>\n",
       "  </thead>\n",
       "  <tbody>\n",
       "    <tr>\n",
       "      <th>0</th>\n",
       "      <td>2016년</td>\n",
       "      <td>추석</td>\n",
       "      <td>D-2</td>\n",
       "      <td>11</td>\n",
       "      <td>61030</td>\n",
       "    </tr>\n",
       "    <tr>\n",
       "      <th>1</th>\n",
       "      <td>2016년</td>\n",
       "      <td>설날</td>\n",
       "      <td>D</td>\n",
       "      <td>19</td>\n",
       "      <td>269059</td>\n",
       "    </tr>\n",
       "    <tr>\n",
       "      <th>2</th>\n",
       "      <td>2016년</td>\n",
       "      <td>설날</td>\n",
       "      <td>D-2</td>\n",
       "      <td>14</td>\n",
       "      <td>242951</td>\n",
       "    </tr>\n",
       "    <tr>\n",
       "      <th>3</th>\n",
       "      <td>2016년</td>\n",
       "      <td>설날</td>\n",
       "      <td>D-1</td>\n",
       "      <td>14</td>\n",
       "      <td>247527</td>\n",
       "    </tr>\n",
       "    <tr>\n",
       "      <th>4</th>\n",
       "      <td>2016년</td>\n",
       "      <td>추석</td>\n",
       "      <td>D</td>\n",
       "      <td>21</td>\n",
       "      <td>63238</td>\n",
       "    </tr>\n",
       "  </tbody>\n",
       "</table>\n",
       "</div>"
      ],
      "text/plain": [
       "    기준년도 특수일 특송기간 기준시  교통량(대)\n",
       "0  2016년  추석  D-2  11   61030\n",
       "1  2016년  설날    D  19  269059\n",
       "2  2016년  설날  D-2  14  242951\n",
       "3  2016년  설날  D-1  14  247527\n",
       "4  2016년  추석    D  21   63238"
      ]
     },
     "execution_count": 11,
     "metadata": {},
     "output_type": "execute_result"
    }
   ],
   "source": [
    "traffic.head()"
   ]
  },
  {
   "cell_type": "code",
   "execution_count": 12,
   "metadata": {},
   "outputs": [],
   "source": [
    "traffic.to_csv('./rawdata/traffic_raw.csv', index=False)"
   ]
  },
  {
   "cell_type": "markdown",
   "metadata": {},
   "source": [
    "### 3. 휴게소별 날씨 정보"
   ]
  },
  {
   "cell_type": "markdown",
   "metadata": {},
   "source": [
    "경부고속도로 휴게소 목록\n",
    "- 서울만남, 기흥, 안성, 망향, 천안호두, 옥산, 죽암, 옥천, 금강, 황건, 추풍령, 김천, 칠곡, 평사, 건천, 경주, 통도사"
   ]
  },
  {
   "cell_type": "code",
   "execution_count": 13,
   "metadata": {},
   "outputs": [],
   "source": [
    "def getWeather(date):\n",
    "    url = 'http://data.ex.co.kr/openapi/restinfo/restWeatherList'\n",
    "    params = {'key': user_key,\n",
    "              'type': 'json',\n",
    "              'sdate': str(date), # %Y%m%\n",
    "              'stdHour': '13'\n",
    "             }\n",
    "    response = requests.get(url, params)\n",
    "    return response.json()['list']"
   ]
  },
  {
   "cell_type": "code",
   "execution_count": 14,
   "metadata": {},
   "outputs": [
    {
     "name": "stdout",
     "output_type": "stream",
     "text": [
      "20190912 데이터 수집 완료\n",
      "20200930 데이터 수집 완료\n",
      "20210920 데이터 수집 완료\n"
     ]
    }
   ],
   "source": [
    "days = [20190912, 20200930, 20210920] # 2019 - 2021년의 추석 전일\n",
    "cols = ['sdate', 'unitName', 'routeName', 'rainfallValue', 'rainfallValue']\n",
    "weather = pd.DataFrame(columns=cols)\n",
    "\n",
    "for day in days:\n",
    "        data = getWeather(day)\n",
    "        print(f'{day} 데이터 수집 완료')\n",
    "        df = pd.DataFrame(data)[cols]\n",
    "        weather = pd.concat([weather, df], axis=0)"
   ]
  },
  {
   "cell_type": "code",
   "execution_count": 15,
   "metadata": {},
   "outputs": [],
   "source": [
    "weather.columns = ['날짜', '휴게소명', '도로명', '일강수값', '강수강도값']"
   ]
  },
  {
   "cell_type": "code",
   "execution_count": 16,
   "metadata": {},
   "outputs": [
    {
     "data": {
      "text/html": [
       "<div>\n",
       "<style scoped>\n",
       "    .dataframe tbody tr th:only-of-type {\n",
       "        vertical-align: middle;\n",
       "    }\n",
       "\n",
       "    .dataframe tbody tr th {\n",
       "        vertical-align: top;\n",
       "    }\n",
       "\n",
       "    .dataframe thead th {\n",
       "        text-align: right;\n",
       "    }\n",
       "</style>\n",
       "<table border=\"1\" class=\"dataframe\">\n",
       "  <thead>\n",
       "    <tr style=\"text-align: right;\">\n",
       "      <th></th>\n",
       "      <th>날짜</th>\n",
       "      <th>휴게소명</th>\n",
       "      <th>도로명</th>\n",
       "      <th>일강수값</th>\n",
       "      <th>강수강도값</th>\n",
       "    </tr>\n",
       "  </thead>\n",
       "  <tbody>\n",
       "    <tr>\n",
       "      <th>0</th>\n",
       "      <td>20190912</td>\n",
       "      <td>죽전휴게소</td>\n",
       "      <td>경부선</td>\n",
       "      <td>0.000000</td>\n",
       "      <td>0.000000</td>\n",
       "    </tr>\n",
       "    <tr>\n",
       "      <th>1</th>\n",
       "      <td>20190912</td>\n",
       "      <td>안성휴게소(서울)</td>\n",
       "      <td>경부선</td>\n",
       "      <td>0.000000</td>\n",
       "      <td>0.000000</td>\n",
       "    </tr>\n",
       "    <tr>\n",
       "      <th>2</th>\n",
       "      <td>20190912</td>\n",
       "      <td>옥산휴게소(서울)</td>\n",
       "      <td>경부선</td>\n",
       "      <td>0.000000</td>\n",
       "      <td>0.000000</td>\n",
       "    </tr>\n",
       "    <tr>\n",
       "      <th>3</th>\n",
       "      <td>20190912</td>\n",
       "      <td>천안(삼)휴게소(서울)</td>\n",
       "      <td>경부선</td>\n",
       "      <td>1.100000</td>\n",
       "      <td>1.100000</td>\n",
       "    </tr>\n",
       "    <tr>\n",
       "      <th>4</th>\n",
       "      <td>20190912</td>\n",
       "      <td>죽암휴게소(서울)</td>\n",
       "      <td>경부선</td>\n",
       "      <td>6.600000</td>\n",
       "      <td>6.600000</td>\n",
       "    </tr>\n",
       "  </tbody>\n",
       "</table>\n",
       "</div>"
      ],
      "text/plain": [
       "         날짜          휴게소명  도로명      일강수값     강수강도값\n",
       "0  20190912         죽전휴게소  경부선  0.000000  0.000000\n",
       "1  20190912     안성휴게소(서울)  경부선  0.000000  0.000000\n",
       "2  20190912     옥산휴게소(서울)  경부선  0.000000  0.000000\n",
       "3  20190912  천안(삼)휴게소(서울)  경부선  1.100000  1.100000\n",
       "4  20190912     죽암휴게소(서울)  경부선  6.600000  6.600000"
      ]
     },
     "execution_count": 16,
     "metadata": {},
     "output_type": "execute_result"
    }
   ],
   "source": [
    "weather.head()"
   ]
  },
  {
   "cell_type": "code",
   "execution_count": 17,
   "metadata": {},
   "outputs": [],
   "source": [
    "weather.to_csv('./rawdata/weather_raw.csv', index=False)"
   ]
  }
 ],
 "metadata": {
  "kernelspec": {
   "display_name": "Python 3.9.13 64-bit",
   "language": "python",
   "name": "python3"
  },
  "language_info": {
   "codemirror_mode": {
    "name": "ipython",
    "version": 3
   },
   "file_extension": ".py",
   "mimetype": "text/x-python",
   "name": "python",
   "nbconvert_exporter": "python",
   "pygments_lexer": "ipython3",
   "version": "3.9.13"
  },
  "orig_nbformat": 4,
  "vscode": {
   "interpreter": {
    "hash": "cf92aa13fedf815d5c8dd192b8d835913fde3e8bc926b2a0ad6cc74ef2ba3ca2"
   }
  }
 },
 "nbformat": 4,
 "nbformat_minor": 2
}
