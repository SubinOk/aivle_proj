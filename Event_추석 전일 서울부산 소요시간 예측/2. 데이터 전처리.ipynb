{
 "cells": [
  {
   "cell_type": "code",
   "execution_count": 177,
   "metadata": {},
   "outputs": [],
   "source": [
    "import numpy as np\n",
    "import pandas as pd\n",
    "\n",
    "import matplotlib.pyplot as plt\n",
    "import seaborn as sns\n",
    "\n",
    "import warnings\n",
    "warnings.filterwarnings('ignore')"
   ]
  },
  {
   "cell_type": "code",
   "execution_count": 178,
   "metadata": {},
   "outputs": [],
   "source": [
    "intercity = pd.read_csv('./rawdata/intercity_raw.csv')\n",
    "traffic = pd.read_csv('./rawdata/traffic_raw.csv')\n",
    "weather = pd.read_csv('./rawdata/weather_raw.csv')"
   ]
  },
  {
   "cell_type": "markdown",
   "metadata": {},
   "source": [
    "### 1. 도시간 소요시간"
   ]
  },
  {
   "cell_type": "code",
   "execution_count": 179,
   "metadata": {},
   "outputs": [
    {
     "data": {
      "text/html": [
       "<div>\n",
       "<style scoped>\n",
       "    .dataframe tbody tr th:only-of-type {\n",
       "        vertical-align: middle;\n",
       "    }\n",
       "\n",
       "    .dataframe tbody tr th {\n",
       "        vertical-align: top;\n",
       "    }\n",
       "\n",
       "    .dataframe thead th {\n",
       "        text-align: right;\n",
       "    }\n",
       "</style>\n",
       "<table border=\"1\" class=\"dataframe\">\n",
       "  <thead>\n",
       "    <tr style=\"text-align: right;\">\n",
       "      <th></th>\n",
       "      <th>기준년도</th>\n",
       "      <th>특수일</th>\n",
       "      <th>특송기간</th>\n",
       "      <th>기준시</th>\n",
       "      <th>통행시간(분)</th>\n",
       "    </tr>\n",
       "  </thead>\n",
       "  <tbody>\n",
       "    <tr>\n",
       "      <th>0</th>\n",
       "      <td>2016</td>\n",
       "      <td>연말연시</td>\n",
       "      <td>D</td>\n",
       "      <td>0</td>\n",
       "      <td>325.377667</td>\n",
       "    </tr>\n",
       "    <tr>\n",
       "      <th>1</th>\n",
       "      <td>2016</td>\n",
       "      <td>연말연시</td>\n",
       "      <td>D</td>\n",
       "      <td>1</td>\n",
       "      <td>321.183000</td>\n",
       "    </tr>\n",
       "    <tr>\n",
       "      <th>2</th>\n",
       "      <td>2016</td>\n",
       "      <td>연말연시</td>\n",
       "      <td>D</td>\n",
       "      <td>2</td>\n",
       "      <td>315.688667</td>\n",
       "    </tr>\n",
       "    <tr>\n",
       "      <th>3</th>\n",
       "      <td>2016</td>\n",
       "      <td>연말연시</td>\n",
       "      <td>D</td>\n",
       "      <td>3</td>\n",
       "      <td>309.322000</td>\n",
       "    </tr>\n",
       "    <tr>\n",
       "      <th>4</th>\n",
       "      <td>2016</td>\n",
       "      <td>연말연시</td>\n",
       "      <td>D</td>\n",
       "      <td>4</td>\n",
       "      <td>299.949333</td>\n",
       "    </tr>\n",
       "  </tbody>\n",
       "</table>\n",
       "</div>"
      ],
      "text/plain": [
       "   기준년도   특수일 특송기간  기준시     통행시간(분)\n",
       "0  2016  연말연시    D    0  325.377667\n",
       "1  2016  연말연시    D    1  321.183000\n",
       "2  2016  연말연시    D    2  315.688667\n",
       "3  2016  연말연시    D    3  309.322000\n",
       "4  2016  연말연시    D    4  299.949333"
      ]
     },
     "execution_count": 179,
     "metadata": {},
     "output_type": "execute_result"
    }
   ],
   "source": [
    "intercity.head()"
   ]
  },
  {
   "cell_type": "code",
   "execution_count": 180,
   "metadata": {},
   "outputs": [
    {
     "data": {
      "text/plain": [
       "array([2016, 2017, 2018, 2019, 2020, 2021, 2022], dtype=int64)"
      ]
     },
     "execution_count": 180,
     "metadata": {},
     "output_type": "execute_result"
    }
   ],
   "source": [
    "intercity['기준년도'].unique()"
   ]
  },
  {
   "cell_type": "code",
   "execution_count": 181,
   "metadata": {},
   "outputs": [
    {
     "data": {
      "text/html": [
       "<div>\n",
       "<style scoped>\n",
       "    .dataframe tbody tr th:only-of-type {\n",
       "        vertical-align: middle;\n",
       "    }\n",
       "\n",
       "    .dataframe tbody tr th {\n",
       "        vertical-align: top;\n",
       "    }\n",
       "\n",
       "    .dataframe thead th {\n",
       "        text-align: right;\n",
       "    }\n",
       "</style>\n",
       "<table border=\"1\" class=\"dataframe\">\n",
       "  <thead>\n",
       "    <tr style=\"text-align: right;\">\n",
       "      <th></th>\n",
       "      <th>기준년도</th>\n",
       "      <th>특수일</th>\n",
       "      <th>특송기간</th>\n",
       "      <th>기준시</th>\n",
       "      <th>통행시간(분)</th>\n",
       "    </tr>\n",
       "  </thead>\n",
       "  <tbody>\n",
       "    <tr>\n",
       "      <th>0</th>\n",
       "      <td>2016</td>\n",
       "      <td>연말연시</td>\n",
       "      <td>D</td>\n",
       "      <td>0</td>\n",
       "      <td>325.377667</td>\n",
       "    </tr>\n",
       "    <tr>\n",
       "      <th>1</th>\n",
       "      <td>2016</td>\n",
       "      <td>연말연시</td>\n",
       "      <td>D</td>\n",
       "      <td>1</td>\n",
       "      <td>321.183000</td>\n",
       "    </tr>\n",
       "    <tr>\n",
       "      <th>2</th>\n",
       "      <td>2016</td>\n",
       "      <td>연말연시</td>\n",
       "      <td>D</td>\n",
       "      <td>2</td>\n",
       "      <td>315.688667</td>\n",
       "    </tr>\n",
       "    <tr>\n",
       "      <th>3</th>\n",
       "      <td>2016</td>\n",
       "      <td>연말연시</td>\n",
       "      <td>D</td>\n",
       "      <td>3</td>\n",
       "      <td>309.322000</td>\n",
       "    </tr>\n",
       "    <tr>\n",
       "      <th>4</th>\n",
       "      <td>2016</td>\n",
       "      <td>연말연시</td>\n",
       "      <td>D</td>\n",
       "      <td>4</td>\n",
       "      <td>299.949333</td>\n",
       "    </tr>\n",
       "    <tr>\n",
       "      <th>...</th>\n",
       "      <td>...</td>\n",
       "      <td>...</td>\n",
       "      <td>...</td>\n",
       "      <td>...</td>\n",
       "      <td>...</td>\n",
       "    </tr>\n",
       "    <tr>\n",
       "      <th>88</th>\n",
       "      <td>2016</td>\n",
       "      <td>연말연시</td>\n",
       "      <td>D+3</td>\n",
       "      <td>19</td>\n",
       "      <td>262.641000</td>\n",
       "    </tr>\n",
       "    <tr>\n",
       "      <th>89</th>\n",
       "      <td>2016</td>\n",
       "      <td>연말연시</td>\n",
       "      <td>D+3</td>\n",
       "      <td>20</td>\n",
       "      <td>259.950000</td>\n",
       "    </tr>\n",
       "    <tr>\n",
       "      <th>90</th>\n",
       "      <td>2016</td>\n",
       "      <td>연말연시</td>\n",
       "      <td>D+3</td>\n",
       "      <td>21</td>\n",
       "      <td>262.325000</td>\n",
       "    </tr>\n",
       "    <tr>\n",
       "      <th>91</th>\n",
       "      <td>2016</td>\n",
       "      <td>연말연시</td>\n",
       "      <td>D+3</td>\n",
       "      <td>22</td>\n",
       "      <td>265.583000</td>\n",
       "    </tr>\n",
       "    <tr>\n",
       "      <th>92</th>\n",
       "      <td>2016</td>\n",
       "      <td>연말연시</td>\n",
       "      <td>D+3</td>\n",
       "      <td>23</td>\n",
       "      <td>237.700000</td>\n",
       "    </tr>\n",
       "  </tbody>\n",
       "</table>\n",
       "<p>93 rows × 5 columns</p>\n",
       "</div>"
      ],
      "text/plain": [
       "    기준년도   특수일 특송기간  기준시     통행시간(분)\n",
       "0   2016  연말연시    D    0  325.377667\n",
       "1   2016  연말연시    D    1  321.183000\n",
       "2   2016  연말연시    D    2  315.688667\n",
       "3   2016  연말연시    D    3  309.322000\n",
       "4   2016  연말연시    D    4  299.949333\n",
       "..   ...   ...  ...  ...         ...\n",
       "88  2016  연말연시  D+3   19  262.641000\n",
       "89  2016  연말연시  D+3   20  259.950000\n",
       "90  2016  연말연시  D+3   21  262.325000\n",
       "91  2016  연말연시  D+3   22  265.583000\n",
       "92  2016  연말연시  D+3   23  237.700000\n",
       "\n",
       "[93 rows x 5 columns]"
      ]
     },
     "execution_count": 181,
     "metadata": {},
     "output_type": "execute_result"
    }
   ],
   "source": [
    "intercity.loc[intercity['기준년도']==2016]"
   ]
  },
  {
   "cell_type": "code",
   "execution_count": 182,
   "metadata": {},
   "outputs": [
    {
     "data": {
      "text/plain": [
       "array(['연말연시', '추석', '설날'], dtype=object)"
      ]
     },
     "execution_count": 182,
     "metadata": {},
     "output_type": "execute_result"
    }
   ],
   "source": [
    "intercity['특수일'].unique()"
   ]
  },
  {
   "cell_type": "code",
   "execution_count": 183,
   "metadata": {},
   "outputs": [
    {
     "data": {
      "text/html": [
       "<div>\n",
       "<style scoped>\n",
       "    .dataframe tbody tr th:only-of-type {\n",
       "        vertical-align: middle;\n",
       "    }\n",
       "\n",
       "    .dataframe tbody tr th {\n",
       "        vertical-align: top;\n",
       "    }\n",
       "\n",
       "    .dataframe thead th {\n",
       "        text-align: right;\n",
       "    }\n",
       "</style>\n",
       "<table border=\"1\" class=\"dataframe\">\n",
       "  <thead>\n",
       "    <tr style=\"text-align: right;\">\n",
       "      <th></th>\n",
       "      <th>특수일</th>\n",
       "      <th>통행시간(분)</th>\n",
       "    </tr>\n",
       "  </thead>\n",
       "  <tbody>\n",
       "    <tr>\n",
       "      <th>0</th>\n",
       "      <td>설날</td>\n",
       "      <td>287.571775</td>\n",
       "    </tr>\n",
       "    <tr>\n",
       "      <th>1</th>\n",
       "      <td>연말연시</td>\n",
       "      <td>269.259787</td>\n",
       "    </tr>\n",
       "    <tr>\n",
       "      <th>2</th>\n",
       "      <td>추석</td>\n",
       "      <td>305.473260</td>\n",
       "    </tr>\n",
       "  </tbody>\n",
       "</table>\n",
       "</div>"
      ],
      "text/plain": [
       "    특수일     통행시간(분)\n",
       "0    설날  287.571775\n",
       "1  연말연시  269.259787\n",
       "2    추석  305.473260"
      ]
     },
     "execution_count": 183,
     "metadata": {},
     "output_type": "execute_result"
    }
   ],
   "source": [
    "intercity.groupby(by='특수일', as_index=False)[['통행시간(분)']].mean()"
   ]
  },
  {
   "cell_type": "code",
   "execution_count": 184,
   "metadata": {},
   "outputs": [],
   "source": [
    "cs_inter = intercity.loc[(intercity['특수일']=='추석')&(intercity['기준시']==12)]"
   ]
  },
  {
   "cell_type": "code",
   "execution_count": 185,
   "metadata": {},
   "outputs": [
    {
     "data": {
      "text/html": [
       "<div>\n",
       "<style scoped>\n",
       "    .dataframe tbody tr th:only-of-type {\n",
       "        vertical-align: middle;\n",
       "    }\n",
       "\n",
       "    .dataframe tbody tr th {\n",
       "        vertical-align: top;\n",
       "    }\n",
       "\n",
       "    .dataframe thead th {\n",
       "        text-align: right;\n",
       "    }\n",
       "</style>\n",
       "<table border=\"1\" class=\"dataframe\">\n",
       "  <thead>\n",
       "    <tr style=\"text-align: right;\">\n",
       "      <th></th>\n",
       "      <th>기준년도</th>\n",
       "      <th>특수일</th>\n",
       "      <th>특송기간</th>\n",
       "      <th>기준시</th>\n",
       "      <th>통행시간(분)</th>\n",
       "    </tr>\n",
       "  </thead>\n",
       "  <tbody>\n",
       "    <tr>\n",
       "      <th>105</th>\n",
       "      <td>2017</td>\n",
       "      <td>추석</td>\n",
       "      <td>D-3</td>\n",
       "      <td>12</td>\n",
       "      <td>289.827333</td>\n",
       "    </tr>\n",
       "    <tr>\n",
       "      <th>129</th>\n",
       "      <td>2017</td>\n",
       "      <td>추석</td>\n",
       "      <td>D-2</td>\n",
       "      <td>12</td>\n",
       "      <td>367.872000</td>\n",
       "    </tr>\n",
       "    <tr>\n",
       "      <th>153</th>\n",
       "      <td>2017</td>\n",
       "      <td>추석</td>\n",
       "      <td>D-1</td>\n",
       "      <td>12</td>\n",
       "      <td>430.466667</td>\n",
       "    </tr>\n",
       "    <tr>\n",
       "      <th>177</th>\n",
       "      <td>2017</td>\n",
       "      <td>추석</td>\n",
       "      <td>D</td>\n",
       "      <td>12</td>\n",
       "      <td>412.325000</td>\n",
       "    </tr>\n",
       "    <tr>\n",
       "      <th>201</th>\n",
       "      <td>2017</td>\n",
       "      <td>추석</td>\n",
       "      <td>D+1</td>\n",
       "      <td>12</td>\n",
       "      <td>392.099500</td>\n",
       "    </tr>\n",
       "  </tbody>\n",
       "</table>\n",
       "</div>"
      ],
      "text/plain": [
       "     기준년도 특수일 특송기간  기준시     통행시간(분)\n",
       "105  2017  추석  D-3   12  289.827333\n",
       "129  2017  추석  D-2   12  367.872000\n",
       "153  2017  추석  D-1   12  430.466667\n",
       "177  2017  추석    D   12  412.325000\n",
       "201  2017  추석  D+1   12  392.099500"
      ]
     },
     "execution_count": 185,
     "metadata": {},
     "output_type": "execute_result"
    }
   ],
   "source": [
    "cs_inter.head()"
   ]
  },
  {
   "cell_type": "code",
   "execution_count": 186,
   "metadata": {},
   "outputs": [
    {
     "data": {
      "text/html": [
       "<div>\n",
       "<style scoped>\n",
       "    .dataframe tbody tr th:only-of-type {\n",
       "        vertical-align: middle;\n",
       "    }\n",
       "\n",
       "    .dataframe tbody tr th {\n",
       "        vertical-align: top;\n",
       "    }\n",
       "\n",
       "    .dataframe thead th {\n",
       "        text-align: right;\n",
       "    }\n",
       "</style>\n",
       "<table border=\"1\" class=\"dataframe\">\n",
       "  <thead>\n",
       "    <tr style=\"text-align: right;\">\n",
       "      <th></th>\n",
       "      <th>기준년도</th>\n",
       "      <th>특수일</th>\n",
       "      <th>특송기간</th>\n",
       "      <th>기준시</th>\n",
       "      <th>통행시간(분)</th>\n",
       "    </tr>\n",
       "  </thead>\n",
       "  <tbody>\n",
       "    <tr>\n",
       "      <th>153</th>\n",
       "      <td>2017</td>\n",
       "      <td>추석</td>\n",
       "      <td>D-1</td>\n",
       "      <td>12</td>\n",
       "      <td>430.466667</td>\n",
       "    </tr>\n",
       "    <tr>\n",
       "      <th>582</th>\n",
       "      <td>2018</td>\n",
       "      <td>추석</td>\n",
       "      <td>D-1</td>\n",
       "      <td>12</td>\n",
       "      <td>379.083000</td>\n",
       "    </tr>\n",
       "    <tr>\n",
       "      <th>1001</th>\n",
       "      <td>2019</td>\n",
       "      <td>추석</td>\n",
       "      <td>D-1</td>\n",
       "      <td>12</td>\n",
       "      <td>471.191000</td>\n",
       "    </tr>\n",
       "    <tr>\n",
       "      <th>1370</th>\n",
       "      <td>2020</td>\n",
       "      <td>추석</td>\n",
       "      <td>D-1</td>\n",
       "      <td>12</td>\n",
       "      <td>316.005333</td>\n",
       "    </tr>\n",
       "    <tr>\n",
       "      <th>1788</th>\n",
       "      <td>2021</td>\n",
       "      <td>추석</td>\n",
       "      <td>D-1</td>\n",
       "      <td>12</td>\n",
       "      <td>296.066000</td>\n",
       "    </tr>\n",
       "  </tbody>\n",
       "</table>\n",
       "</div>"
      ],
      "text/plain": [
       "      기준년도 특수일 특송기간  기준시     통행시간(분)\n",
       "153   2017  추석  D-1   12  430.466667\n",
       "582   2018  추석  D-1   12  379.083000\n",
       "1001  2019  추석  D-1   12  471.191000\n",
       "1370  2020  추석  D-1   12  316.005333\n",
       "1788  2021  추석  D-1   12  296.066000"
      ]
     },
     "execution_count": 186,
     "metadata": {},
     "output_type": "execute_result"
    }
   ],
   "source": [
    "cs_inter.loc[cs_inter['특송기간']=='D-1']"
   ]
  },
  {
   "cell_type": "code",
   "execution_count": 187,
   "metadata": {},
   "outputs": [],
   "source": [
    "cs_17 = cs_inter.loc[cs_inter['기준년도']==2017]\n",
    "cs_18 = cs_inter.loc[cs_inter['기준년도']==2018]\n",
    "cs_19 = cs_inter.loc[cs_inter['기준년도']==2019]\n",
    "cs_20 = cs_inter.loc[cs_inter['기준년도']==2020]\n",
    "cs_21 = cs_inter.loc[cs_inter['기준년도']==2021]"
   ]
  },
  {
   "cell_type": "code",
   "execution_count": 188,
   "metadata": {},
   "outputs": [
    {
     "data": {
      "image/png": "[encoded data removed]",
      "text/plain": [
       "<Figure size 432x288 with 1 Axes>"
      ]
     },
     "metadata": {
      "needs_background": "light"
     },
     "output_type": "display_data"
    }
   ],
   "source": [
    "plt.plot('특송기간', '통행시간(분)', data=cs_17, label='2017') # 휴일수: 10일(추석 전 3일, 추석 후 4일)\n",
    "plt.plot('특송기간', '통행시간(분)', data=cs_18, label='2018') # 휴일수: 5일(추석 전후 1일)\n",
    "plt.plot('특송기간', '통행시간(분)', data=cs_19, label='2019') # 휴일수: 4일(추석 후 1일)\n",
    "plt.plot('특송기간', '통행시간(분)', data=cs_20, label='2020') # 휴일수: 5일(추석 후 2일)\n",
    "plt.plot('특송기간', '통행시간(분)', data=cs_21, label='2021') # 휴일수: 5일(추석 전 2일)\n",
    "\n",
    "plt.legend()\n",
    "plt.show()"
   ]
  },
  {
   "cell_type": "markdown",
   "metadata": {},
   "source": [
    "### 2. 시간대별 교통량"
   ]
  },
  {
   "cell_type": "code",
   "execution_count": 189,
   "metadata": {},
   "outputs": [
    {
     "data": {
      "text/html": [
       "<div>\n",
       "<style scoped>\n",
       "    .dataframe tbody tr th:only-of-type {\n",
       "        vertical-align: middle;\n",
       "    }\n",
       "\n",
       "    .dataframe tbody tr th {\n",
       "        vertical-align: top;\n",
       "    }\n",
       "\n",
       "    .dataframe thead th {\n",
       "        text-align: right;\n",
       "    }\n",
       "</style>\n",
       "<table border=\"1\" class=\"dataframe\">\n",
       "  <thead>\n",
       "    <tr style=\"text-align: right;\">\n",
       "      <th></th>\n",
       "      <th>기준년도</th>\n",
       "      <th>특수일</th>\n",
       "      <th>특송기간</th>\n",
       "      <th>기준시</th>\n",
       "      <th>교통량(대)</th>\n",
       "    </tr>\n",
       "  </thead>\n",
       "  <tbody>\n",
       "    <tr>\n",
       "      <th>0</th>\n",
       "      <td>2016년</td>\n",
       "      <td>추석</td>\n",
       "      <td>D-2</td>\n",
       "      <td>11</td>\n",
       "      <td>61030</td>\n",
       "    </tr>\n",
       "    <tr>\n",
       "      <th>1</th>\n",
       "      <td>2016년</td>\n",
       "      <td>설날</td>\n",
       "      <td>D</td>\n",
       "      <td>19</td>\n",
       "      <td>269059</td>\n",
       "    </tr>\n",
       "    <tr>\n",
       "      <th>2</th>\n",
       "      <td>2016년</td>\n",
       "      <td>설날</td>\n",
       "      <td>D-2</td>\n",
       "      <td>14</td>\n",
       "      <td>242951</td>\n",
       "    </tr>\n",
       "    <tr>\n",
       "      <th>3</th>\n",
       "      <td>2016년</td>\n",
       "      <td>설날</td>\n",
       "      <td>D-1</td>\n",
       "      <td>14</td>\n",
       "      <td>247527</td>\n",
       "    </tr>\n",
       "    <tr>\n",
       "      <th>4</th>\n",
       "      <td>2016년</td>\n",
       "      <td>추석</td>\n",
       "      <td>D</td>\n",
       "      <td>21</td>\n",
       "      <td>63238</td>\n",
       "    </tr>\n",
       "  </tbody>\n",
       "</table>\n",
       "</div>"
      ],
      "text/plain": [
       "    기준년도 특수일 특송기간  기준시  교통량(대)\n",
       "0  2016년  추석  D-2   11   61030\n",
       "1  2016년  설날    D   19  269059\n",
       "2  2016년  설날  D-2   14  242951\n",
       "3  2016년  설날  D-1   14  247527\n",
       "4  2016년  추석    D   21   63238"
      ]
     },
     "execution_count": 189,
     "metadata": {},
     "output_type": "execute_result"
    }
   ],
   "source": [
    "traffic.head()"
   ]
  },
  {
   "cell_type": "code",
   "execution_count": 190,
   "metadata": {},
   "outputs": [],
   "source": [
    "cs_traffic = traffic.loc[(traffic['특수일']=='추석')&(traffic['기준시']==12)]"
   ]
  },
  {
   "cell_type": "code",
   "execution_count": 191,
   "metadata": {},
   "outputs": [
    {
     "data": {
      "text/html": [
       "<div>\n",
       "<style scoped>\n",
       "    .dataframe tbody tr th:only-of-type {\n",
       "        vertical-align: middle;\n",
       "    }\n",
       "\n",
       "    .dataframe tbody tr th {\n",
       "        vertical-align: top;\n",
       "    }\n",
       "\n",
       "    .dataframe thead th {\n",
       "        text-align: right;\n",
       "    }\n",
       "</style>\n",
       "<table border=\"1\" class=\"dataframe\">\n",
       "  <thead>\n",
       "    <tr style=\"text-align: right;\">\n",
       "      <th></th>\n",
       "      <th>기준년도</th>\n",
       "      <th>특수일</th>\n",
       "      <th>특송기간</th>\n",
       "      <th>기준시</th>\n",
       "      <th>교통량(대)</th>\n",
       "    </tr>\n",
       "  </thead>\n",
       "  <tbody>\n",
       "    <tr>\n",
       "      <th>53</th>\n",
       "      <td>2016년</td>\n",
       "      <td>추석</td>\n",
       "      <td>D+1</td>\n",
       "      <td>12</td>\n",
       "      <td>318214</td>\n",
       "    </tr>\n",
       "    <tr>\n",
       "      <th>89</th>\n",
       "      <td>2016년</td>\n",
       "      <td>추석</td>\n",
       "      <td>D+2</td>\n",
       "      <td>12</td>\n",
       "      <td>242110</td>\n",
       "    </tr>\n",
       "    <tr>\n",
       "      <th>297</th>\n",
       "      <td>2016년</td>\n",
       "      <td>추석</td>\n",
       "      <td>D-3</td>\n",
       "      <td>12</td>\n",
       "      <td>241410</td>\n",
       "    </tr>\n",
       "    <tr>\n",
       "      <th>307</th>\n",
       "      <td>2016년</td>\n",
       "      <td>추석</td>\n",
       "      <td>D</td>\n",
       "      <td>12</td>\n",
       "      <td>114162</td>\n",
       "    </tr>\n",
       "    <tr>\n",
       "      <th>417</th>\n",
       "      <td>2016년</td>\n",
       "      <td>추석</td>\n",
       "      <td>D+3</td>\n",
       "      <td>12</td>\n",
       "      <td>200366</td>\n",
       "    </tr>\n",
       "  </tbody>\n",
       "</table>\n",
       "</div>"
      ],
      "text/plain": [
       "      기준년도 특수일 특송기간  기준시  교통량(대)\n",
       "53   2016년  추석  D+1   12  318214\n",
       "89   2016년  추석  D+2   12  242110\n",
       "297  2016년  추석  D-3   12  241410\n",
       "307  2016년  추석    D   12  114162\n",
       "417  2016년  추석  D+3   12  200366"
      ]
     },
     "execution_count": 191,
     "metadata": {},
     "output_type": "execute_result"
    }
   ],
   "source": [
    "cs_traffic.head()"
   ]
  },
  {
   "cell_type": "code",
   "execution_count": 192,
   "metadata": {},
   "outputs": [],
   "source": [
    "cs_traffic['기준년도'] = cs_traffic['기준년도'].map({'2016년': 2016,\n",
    "                                                    '2017년': 2017,\n",
    "                                                    '2018년': 2018,\n",
    "                                                    '2019년': 2019,\n",
    "                                                    '2020년': 2020,\n",
    "                                                    '2021년': 2021,\n",
    "                                                    })"
   ]
  },
  {
   "cell_type": "code",
   "execution_count": 193,
   "metadata": {},
   "outputs": [],
   "source": [
    "cs_traffic['특송기간'] = cs_traffic['특송기간'].map({'D-3': -3,\n",
    "                                                              'D-2': -2,\n",
    "                                                              'D-1': -1,\n",
    "                                                              'D': 0,\n",
    "                                                              'D+1': 1,\n",
    "                                                              'D+2': 2,\n",
    "                                                              'D+3': 3\n",
    "                                                              })"
   ]
  },
  {
   "cell_type": "code",
   "execution_count": 194,
   "metadata": {},
   "outputs": [],
   "source": [
    "cs_16 = cs_traffic.loc[cs_traffic['기준년도']==2016].sort_values('특송기간')\n",
    "cs_17 = cs_traffic.loc[cs_traffic['기준년도']==2017].sort_values('특송기간')\n",
    "cs_18 = cs_traffic.loc[cs_traffic['기준년도']==2018].sort_values('특송기간')\n",
    "cs_19 = cs_traffic.loc[cs_traffic['기준년도']==2019].sort_values('특송기간')\n",
    "cs_20 = cs_traffic.loc[cs_traffic['기준년도']==2020].sort_values('특송기간')\n",
    "cs_21 = cs_traffic.loc[cs_traffic['기준년도']==2021].sort_values('특송기간')"
   ]
  },
  {
   "cell_type": "code",
   "execution_count": 195,
   "metadata": {},
   "outputs": [
    {
     "data": {
      "image/png": "[encoded data removed]",
      "text/plain": [
       "<Figure size 432x288 with 1 Axes>"
      ]
     },
     "metadata": {
      "needs_background": "light"
     },
     "output_type": "display_data"
    }
   ],
   "source": [
    "plt.plot('특송기간', '교통량(대)', data=cs_16, label='2016')\n",
    "plt.plot('특송기간', '교통량(대)', data=cs_17, label='2017') # 휴일수: 10일(추석 전 3일, 추석 후 4일)\n",
    "plt.plot('특송기간', '교통량(대)', data=cs_18, label='2018') # 휴일수: 5일(추석 전후 1일)\n",
    "plt.plot('특송기간', '교통량(대)', data=cs_19, label='2019') # 휴일수: 4일(추석 후 1일)\n",
    "plt.plot('특송기간', '교통량(대)', data=cs_20, label='2020') # 휴일수: 5일(추석 후 2일)\n",
    "plt.plot('특송기간', '교통량(대)', data=cs_21, label='2021') # 휴일수: 5일(추석 전 2일)\n",
    "\n",
    "plt.legend()\n",
    "plt.show()"
   ]
  },
  {
   "cell_type": "markdown",
   "metadata": {},
   "source": [
    "### 3. 휴게소별 날씨"
   ]
  },
  {
   "cell_type": "markdown",
   "metadata": {},
   "source": [
    "경부고속도로 휴게소 목록\n",
    "- 서울만남, 기흥, 안성, 망향, 천안호두, 옥산, 죽암, 옥천, 금강, 황간, 추풍령, 김천, 칠곡, 평사, 건천, 경주, 통도사"
   ]
  },
  {
   "cell_type": "code",
   "execution_count": 196,
   "metadata": {},
   "outputs": [
    {
     "data": {
      "text/html": [
       "<div>\n",
       "<style scoped>\n",
       "    .dataframe tbody tr th:only-of-type {\n",
       "        vertical-align: middle;\n",
       "    }\n",
       "\n",
       "    .dataframe tbody tr th {\n",
       "        vertical-align: top;\n",
       "    }\n",
       "\n",
       "    .dataframe thead th {\n",
       "        text-align: right;\n",
       "    }\n",
       "</style>\n",
       "<table border=\"1\" class=\"dataframe\">\n",
       "  <thead>\n",
       "    <tr style=\"text-align: right;\">\n",
       "      <th></th>\n",
       "      <th>날짜</th>\n",
       "      <th>휴게소명</th>\n",
       "      <th>도로명</th>\n",
       "      <th>일강수값</th>\n",
       "      <th>강수강도값</th>\n",
       "    </tr>\n",
       "  </thead>\n",
       "  <tbody>\n",
       "    <tr>\n",
       "      <th>0</th>\n",
       "      <td>20190912</td>\n",
       "      <td>죽전휴게소</td>\n",
       "      <td>경부선</td>\n",
       "      <td>0.0</td>\n",
       "      <td>0.0</td>\n",
       "    </tr>\n",
       "    <tr>\n",
       "      <th>1</th>\n",
       "      <td>20190912</td>\n",
       "      <td>안성휴게소(서울)</td>\n",
       "      <td>경부선</td>\n",
       "      <td>0.0</td>\n",
       "      <td>0.0</td>\n",
       "    </tr>\n",
       "    <tr>\n",
       "      <th>2</th>\n",
       "      <td>20190912</td>\n",
       "      <td>옥산휴게소(서울)</td>\n",
       "      <td>경부선</td>\n",
       "      <td>0.0</td>\n",
       "      <td>0.0</td>\n",
       "    </tr>\n",
       "    <tr>\n",
       "      <th>3</th>\n",
       "      <td>20190912</td>\n",
       "      <td>천안(삼)휴게소(서울)</td>\n",
       "      <td>경부선</td>\n",
       "      <td>1.1</td>\n",
       "      <td>1.1</td>\n",
       "    </tr>\n",
       "    <tr>\n",
       "      <th>4</th>\n",
       "      <td>20190912</td>\n",
       "      <td>죽암휴게소(서울)</td>\n",
       "      <td>경부선</td>\n",
       "      <td>6.6</td>\n",
       "      <td>6.6</td>\n",
       "    </tr>\n",
       "  </tbody>\n",
       "</table>\n",
       "</div>"
      ],
      "text/plain": [
       "         날짜          휴게소명  도로명  일강수값  강수강도값\n",
       "0  20190912         죽전휴게소  경부선   0.0    0.0\n",
       "1  20190912     안성휴게소(서울)  경부선   0.0    0.0\n",
       "2  20190912     옥산휴게소(서울)  경부선   0.0    0.0\n",
       "3  20190912  천안(삼)휴게소(서울)  경부선   1.1    1.1\n",
       "4  20190912     죽암휴게소(서울)  경부선   6.6    6.6"
      ]
     },
     "execution_count": 196,
     "metadata": {},
     "output_type": "execute_result"
    }
   ],
   "source": [
    "weather.head()"
   ]
  },
  {
   "cell_type": "code",
   "execution_count": 197,
   "metadata": {},
   "outputs": [
    {
     "data": {
      "text/plain": [
       "array(['죽전휴게소', '안성휴게소(서울)', '옥산휴게소(서울)', '천안(삼)휴게소(서울)', '죽암휴게소(서울)',\n",
       "       '옥천휴게소(서울)', '황간휴게소(서울)', '입장휴게소(서울)', '추풍령휴게소(서울)', '칠곡휴게소(서울)',\n",
       "       '경산휴게소(서울)', '건천휴게소(서울)', '언양휴게소(서울)', '신탄진휴게소(서울)', '청원휴게소(서울)',\n",
       "       '금강휴게소(서울)', '만남의광장', '기흥휴게소', '안성휴게소(부산)', '망향휴게소', '옥산휴게소(부산)',\n",
       "       '천안휴게소(부산)', '죽암휴게소(부산)', '금강휴게소(부산)', '황간휴게소(부산)', '추풍령휴게소(부산)',\n",
       "       '평사휴게소(부산)', '칠곡휴게소(부산)', '건천휴게소(부산)', '언양휴게소(부산)', '옥천휴게소(부산)',\n",
       "       '경주휴게소(부산)'], dtype=object)"
      ]
     },
     "execution_count": 197,
     "metadata": {},
     "output_type": "execute_result"
    }
   ],
   "source": [
    "weather.loc[weather['도로명']=='경부선', '휴게소명'].unique()"
   ]
  },
  {
   "cell_type": "code",
   "execution_count": 198,
   "metadata": {},
   "outputs": [],
   "source": [
    "cols = ['만남의광장', '기흥휴게소', '안성휴게소(부산)', '망향휴게소', '옥산휴게소(부산)',\n",
    "       '천안휴게소(부산)', '죽암휴게소(부산)', '금강휴게소(부산)', '황간휴게소(부산)', '추풍령휴게소(부산)',\n",
    "       '평사휴게소(부산)', '칠곡휴게소(부산)', '건천휴게소(부산)', '언양휴게소(부산)', '옥천휴게소(부산)',\n",
    "       '경주휴게소(부산)']"
   ]
  },
  {
   "cell_type": "code",
   "execution_count": 199,
   "metadata": {},
   "outputs": [],
   "source": [
    "weather = weather.loc[weather['휴게소명'].isin(cols)]"
   ]
  },
  {
   "cell_type": "code",
   "execution_count": 200,
   "metadata": {},
   "outputs": [
    {
     "data": {
      "text/html": [
       "<div>\n",
       "<style scoped>\n",
       "    .dataframe tbody tr th:only-of-type {\n",
       "        vertical-align: middle;\n",
       "    }\n",
       "\n",
       "    .dataframe tbody tr th {\n",
       "        vertical-align: top;\n",
       "    }\n",
       "\n",
       "    .dataframe thead th {\n",
       "        text-align: right;\n",
       "    }\n",
       "</style>\n",
       "<table border=\"1\" class=\"dataframe\">\n",
       "  <thead>\n",
       "    <tr style=\"text-align: right;\">\n",
       "      <th></th>\n",
       "      <th>날짜</th>\n",
       "      <th>휴게소명</th>\n",
       "      <th>도로명</th>\n",
       "      <th>일강수값</th>\n",
       "      <th>강수강도값</th>\n",
       "    </tr>\n",
       "  </thead>\n",
       "  <tbody>\n",
       "    <tr>\n",
       "      <th>93</th>\n",
       "      <td>20190912</td>\n",
       "      <td>만남의광장</td>\n",
       "      <td>경부선</td>\n",
       "      <td>0.0</td>\n",
       "      <td>0.0</td>\n",
       "    </tr>\n",
       "    <tr>\n",
       "      <th>94</th>\n",
       "      <td>20190912</td>\n",
       "      <td>기흥휴게소</td>\n",
       "      <td>경부선</td>\n",
       "      <td>0.0</td>\n",
       "      <td>0.0</td>\n",
       "    </tr>\n",
       "    <tr>\n",
       "      <th>95</th>\n",
       "      <td>20190912</td>\n",
       "      <td>안성휴게소(부산)</td>\n",
       "      <td>경부선</td>\n",
       "      <td>1.1</td>\n",
       "      <td>1.1</td>\n",
       "    </tr>\n",
       "    <tr>\n",
       "      <th>96</th>\n",
       "      <td>20190912</td>\n",
       "      <td>망향휴게소</td>\n",
       "      <td>경부선</td>\n",
       "      <td>1.1</td>\n",
       "      <td>1.1</td>\n",
       "    </tr>\n",
       "    <tr>\n",
       "      <th>97</th>\n",
       "      <td>20190912</td>\n",
       "      <td>옥산휴게소(부산)</td>\n",
       "      <td>경부선</td>\n",
       "      <td>0.0</td>\n",
       "      <td>0.0</td>\n",
       "    </tr>\n",
       "  </tbody>\n",
       "</table>\n",
       "</div>"
      ],
      "text/plain": [
       "          날짜       휴게소명  도로명  일강수값  강수강도값\n",
       "93  20190912      만남의광장  경부선   0.0    0.0\n",
       "94  20190912      기흥휴게소  경부선   0.0    0.0\n",
       "95  20190912  안성휴게소(부산)  경부선   1.1    1.1\n",
       "96  20190912      망향휴게소  경부선   1.1    1.1\n",
       "97  20190912  옥산휴게소(부산)  경부선   0.0    0.0"
      ]
     },
     "execution_count": 200,
     "metadata": {},
     "output_type": "execute_result"
    }
   ],
   "source": [
    "weather.head()"
   ]
  },
  {
   "cell_type": "code",
   "execution_count": 201,
   "metadata": {},
   "outputs": [],
   "source": [
    "weather['일강수값'] = np.where(weather['일강수값']<0, 0, weather['일강수값'])\n",
    "weather['강수강도값'] = np.where(weather['강수강도값']<0, 0, weather['강수강도값'])"
   ]
  },
  {
   "cell_type": "code",
   "execution_count": 202,
   "metadata": {},
   "outputs": [
    {
     "data": {
      "text/plain": [
       "날짜\n",
       "20190912    20.9\n",
       "20200930     0.0\n",
       "20210920     0.0\n",
       "Name: 일강수값, dtype: float64"
      ]
     },
     "execution_count": 202,
     "metadata": {},
     "output_type": "execute_result"
    }
   ],
   "source": [
    "weather.groupby('날짜')['일강수값'].sum()"
   ]
  },
  {
   "cell_type": "code",
   "execution_count": 203,
   "metadata": {},
   "outputs": [
    {
     "data": {
      "text/html": [
       "<div>\n",
       "<style scoped>\n",
       "    .dataframe tbody tr th:only-of-type {\n",
       "        vertical-align: middle;\n",
       "    }\n",
       "\n",
       "    .dataframe tbody tr th {\n",
       "        vertical-align: top;\n",
       "    }\n",
       "\n",
       "    .dataframe thead th {\n",
       "        text-align: right;\n",
       "    }\n",
       "</style>\n",
       "<table border=\"1\" class=\"dataframe\">\n",
       "  <thead>\n",
       "    <tr style=\"text-align: right;\">\n",
       "      <th></th>\n",
       "      <th>날짜</th>\n",
       "      <th>휴게소명</th>\n",
       "      <th>도로명</th>\n",
       "      <th>일강수값</th>\n",
       "      <th>강수강도값</th>\n",
       "    </tr>\n",
       "  </thead>\n",
       "  <tbody>\n",
       "    <tr>\n",
       "      <th>93</th>\n",
       "      <td>20190912</td>\n",
       "      <td>만남의광장</td>\n",
       "      <td>경부선</td>\n",
       "      <td>0.0</td>\n",
       "      <td>0.0</td>\n",
       "    </tr>\n",
       "    <tr>\n",
       "      <th>94</th>\n",
       "      <td>20190912</td>\n",
       "      <td>기흥휴게소</td>\n",
       "      <td>경부선</td>\n",
       "      <td>0.0</td>\n",
       "      <td>0.0</td>\n",
       "    </tr>\n",
       "    <tr>\n",
       "      <th>95</th>\n",
       "      <td>20190912</td>\n",
       "      <td>안성휴게소(부산)</td>\n",
       "      <td>경부선</td>\n",
       "      <td>1.1</td>\n",
       "      <td>1.1</td>\n",
       "    </tr>\n",
       "    <tr>\n",
       "      <th>96</th>\n",
       "      <td>20190912</td>\n",
       "      <td>망향휴게소</td>\n",
       "      <td>경부선</td>\n",
       "      <td>1.1</td>\n",
       "      <td>1.1</td>\n",
       "    </tr>\n",
       "    <tr>\n",
       "      <th>97</th>\n",
       "      <td>20190912</td>\n",
       "      <td>옥산휴게소(부산)</td>\n",
       "      <td>경부선</td>\n",
       "      <td>0.0</td>\n",
       "      <td>0.0</td>\n",
       "    </tr>\n",
       "    <tr>\n",
       "      <th>98</th>\n",
       "      <td>20190912</td>\n",
       "      <td>천안휴게소(부산)</td>\n",
       "      <td>경부선</td>\n",
       "      <td>1.1</td>\n",
       "      <td>1.1</td>\n",
       "    </tr>\n",
       "    <tr>\n",
       "      <th>99</th>\n",
       "      <td>20190912</td>\n",
       "      <td>죽암휴게소(부산)</td>\n",
       "      <td>경부선</td>\n",
       "      <td>6.6</td>\n",
       "      <td>6.6</td>\n",
       "    </tr>\n",
       "    <tr>\n",
       "      <th>100</th>\n",
       "      <td>20190912</td>\n",
       "      <td>금강휴게소(부산)</td>\n",
       "      <td>경부선</td>\n",
       "      <td>0.5</td>\n",
       "      <td>0.5</td>\n",
       "    </tr>\n",
       "    <tr>\n",
       "      <th>101</th>\n",
       "      <td>20190912</td>\n",
       "      <td>황간휴게소(부산)</td>\n",
       "      <td>경부선</td>\n",
       "      <td>1.1</td>\n",
       "      <td>1.1</td>\n",
       "    </tr>\n",
       "    <tr>\n",
       "      <th>102</th>\n",
       "      <td>20190912</td>\n",
       "      <td>추풍령휴게소(부산)</td>\n",
       "      <td>경부선</td>\n",
       "      <td>1.1</td>\n",
       "      <td>1.1</td>\n",
       "    </tr>\n",
       "    <tr>\n",
       "      <th>103</th>\n",
       "      <td>20190912</td>\n",
       "      <td>평사휴게소(부산)</td>\n",
       "      <td>경부선</td>\n",
       "      <td>0.5</td>\n",
       "      <td>0.5</td>\n",
       "    </tr>\n",
       "    <tr>\n",
       "      <th>104</th>\n",
       "      <td>20190912</td>\n",
       "      <td>칠곡휴게소(부산)</td>\n",
       "      <td>경부선</td>\n",
       "      <td>1.2</td>\n",
       "      <td>1.2</td>\n",
       "    </tr>\n",
       "    <tr>\n",
       "      <th>105</th>\n",
       "      <td>20190912</td>\n",
       "      <td>건천휴게소(부산)</td>\n",
       "      <td>경부선</td>\n",
       "      <td>0.0</td>\n",
       "      <td>0.0</td>\n",
       "    </tr>\n",
       "    <tr>\n",
       "      <th>106</th>\n",
       "      <td>20190912</td>\n",
       "      <td>언양휴게소(부산)</td>\n",
       "      <td>경부선</td>\n",
       "      <td>0.0</td>\n",
       "      <td>0.0</td>\n",
       "    </tr>\n",
       "    <tr>\n",
       "      <th>107</th>\n",
       "      <td>20190912</td>\n",
       "      <td>옥천휴게소(부산)</td>\n",
       "      <td>경부선</td>\n",
       "      <td>6.6</td>\n",
       "      <td>6.6</td>\n",
       "    </tr>\n",
       "    <tr>\n",
       "      <th>108</th>\n",
       "      <td>20190912</td>\n",
       "      <td>경주휴게소(부산)</td>\n",
       "      <td>경부선</td>\n",
       "      <td>0.0</td>\n",
       "      <td>0.0</td>\n",
       "    </tr>\n",
       "  </tbody>\n",
       "</table>\n",
       "</div>"
      ],
      "text/plain": [
       "           날짜        휴게소명  도로명  일강수값  강수강도값\n",
       "93   20190912       만남의광장  경부선   0.0    0.0\n",
       "94   20190912       기흥휴게소  경부선   0.0    0.0\n",
       "95   20190912   안성휴게소(부산)  경부선   1.1    1.1\n",
       "96   20190912       망향휴게소  경부선   1.1    1.1\n",
       "97   20190912   옥산휴게소(부산)  경부선   0.0    0.0\n",
       "98   20190912   천안휴게소(부산)  경부선   1.1    1.1\n",
       "99   20190912   죽암휴게소(부산)  경부선   6.6    6.6\n",
       "100  20190912   금강휴게소(부산)  경부선   0.5    0.5\n",
       "101  20190912   황간휴게소(부산)  경부선   1.1    1.1\n",
       "102  20190912  추풍령휴게소(부산)  경부선   1.1    1.1\n",
       "103  20190912   평사휴게소(부산)  경부선   0.5    0.5\n",
       "104  20190912   칠곡휴게소(부산)  경부선   1.2    1.2\n",
       "105  20190912   건천휴게소(부산)  경부선   0.0    0.0\n",
       "106  20190912   언양휴게소(부산)  경부선   0.0    0.0\n",
       "107  20190912   옥천휴게소(부산)  경부선   6.6    6.6\n",
       "108  20190912   경주휴게소(부산)  경부선   0.0    0.0"
      ]
     },
     "execution_count": 203,
     "metadata": {},
     "output_type": "execute_result"
    }
   ],
   "source": [
    "weather.loc[weather['날짜']==20190912]"
   ]
  },
  {
   "cell_type": "markdown",
   "metadata": {},
   "source": [
    "### 4. 데이터 통합"
   ]
  },
  {
   "cell_type": "markdown",
   "metadata": {},
   "source": [
    "- 데이터 종류\n",
    "    - 당일 강수 유무\n",
    "    - 추석 전 휴일 수\n",
    "    - 코로나 유무\n",
    "    - 도시간 소요시간"
   ]
  },
  {
   "cell_type": "code",
   "execution_count": 204,
   "metadata": {},
   "outputs": [],
   "source": [
    "year = [2018, 2019, 2020, 2021, 2022]\n",
    "rain = [0, 1, 0, 0, 0]\n",
    "holiday = [2, 1, 1, 3, 1]\n",
    "cv19 = [0, 0, 1, 1, 1]\n",
    "\n",
    "d1_inter = []\n",
    "\n",
    "for y in year:\n",
    "    d1_inter.append(cs_inter.loc[(cs_inter['기준년도']==y-1) & (cs_inter['특송기간']=='D-1'), ['통행시간(분)']].values[0][0])"
   ]
  },
  {
   "cell_type": "code",
   "execution_count": 205,
   "metadata": {},
   "outputs": [],
   "source": [
    "df = pd.DataFrame({'년도': year, \n",
    "                   '강수여부': rain, \n",
    "                   '추석 전 휴일 수': holiday,\n",
    "                   '코로나 유무': cv19,\n",
    "                   '작년 소요시간': d1_inter,\n",
    "                   })"
   ]
  },
  {
   "cell_type": "code",
   "execution_count": 206,
   "metadata": {},
   "outputs": [
    {
     "data": {
      "text/html": [
       "<div>\n",
       "<style scoped>\n",
       "    .dataframe tbody tr th:only-of-type {\n",
       "        vertical-align: middle;\n",
       "    }\n",
       "\n",
       "    .dataframe tbody tr th {\n",
       "        vertical-align: top;\n",
       "    }\n",
       "\n",
       "    .dataframe thead th {\n",
       "        text-align: right;\n",
       "    }\n",
       "</style>\n",
       "<table border=\"1\" class=\"dataframe\">\n",
       "  <thead>\n",
       "    <tr style=\"text-align: right;\">\n",
       "      <th></th>\n",
       "      <th>년도</th>\n",
       "      <th>강수여부</th>\n",
       "      <th>추석 전 휴일 수</th>\n",
       "      <th>코로나 유무</th>\n",
       "      <th>작년 소요시간</th>\n",
       "    </tr>\n",
       "  </thead>\n",
       "  <tbody>\n",
       "    <tr>\n",
       "      <th>0</th>\n",
       "      <td>2018</td>\n",
       "      <td>0</td>\n",
       "      <td>2</td>\n",
       "      <td>0</td>\n",
       "      <td>430.466667</td>\n",
       "    </tr>\n",
       "    <tr>\n",
       "      <th>1</th>\n",
       "      <td>2019</td>\n",
       "      <td>1</td>\n",
       "      <td>1</td>\n",
       "      <td>0</td>\n",
       "      <td>379.083000</td>\n",
       "    </tr>\n",
       "    <tr>\n",
       "      <th>2</th>\n",
       "      <td>2020</td>\n",
       "      <td>0</td>\n",
       "      <td>1</td>\n",
       "      <td>1</td>\n",
       "      <td>471.191000</td>\n",
       "    </tr>\n",
       "    <tr>\n",
       "      <th>3</th>\n",
       "      <td>2021</td>\n",
       "      <td>0</td>\n",
       "      <td>3</td>\n",
       "      <td>1</td>\n",
       "      <td>316.005333</td>\n",
       "    </tr>\n",
       "    <tr>\n",
       "      <th>4</th>\n",
       "      <td>2022</td>\n",
       "      <td>0</td>\n",
       "      <td>1</td>\n",
       "      <td>1</td>\n",
       "      <td>296.066000</td>\n",
       "    </tr>\n",
       "  </tbody>\n",
       "</table>\n",
       "</div>"
      ],
      "text/plain": [
       "     년도  강수여부  추석 전 휴일 수  코로나 유무     작년 소요시간\n",
       "0  2018     0          2       0  430.466667\n",
       "1  2019     1          1       0  379.083000\n",
       "2  2020     0          1       1  471.191000\n",
       "3  2021     0          3       1  316.005333\n",
       "4  2022     0          1       1  296.066000"
      ]
     },
     "execution_count": 206,
     "metadata": {},
     "output_type": "execute_result"
    }
   ],
   "source": [
    "df"
   ]
  },
  {
   "cell_type": "code",
   "execution_count": 207,
   "metadata": {},
   "outputs": [],
   "source": [
    "df['예측 소요시간'] = df['작년 소요시간'].shift(-1)\n",
    "df = df.drop('작년 소요시간', axis=1)"
   ]
  },
  {
   "cell_type": "code",
   "execution_count": 208,
   "metadata": {},
   "outputs": [],
   "source": [
    "df.to_csv('./rawdata/final_data.csv', index=False)"
   ]
  }
 ],
 "metadata": {
  "kernelspec": {
   "display_name": "Python 3.9.13 64-bit",
   "language": "python",
   "name": "python3"
  },
  "language_info": {
   "codemirror_mode": {
    "name": "ipython",
    "version": 3
   },
   "file_extension": ".py",
   "mimetype": "text/x-python",
   "name": "python",
   "nbconvert_exporter": "python",
   "pygments_lexer": "ipython3",
   "version": "3.9.13"
  },
  "orig_nbformat": 4,
  "vscode": {
   "interpreter": {
    "hash": "cf92aa13fedf815d5c8dd192b8d835913fde3e8bc926b2a0ad6cc74ef2ba3ca2"
   }
  }
 },
 "nbformat": 4,
 "nbformat_minor": 2
}
