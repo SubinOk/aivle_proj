{
 "cells": [
  {
   "cell_type": "markdown",
   "id": "22f7625f",
   "metadata": {},
   "source": [
    "# 안녕하세요^^ \n",
    "# AIVLE 미니 프로젝트에 오신 여러분을 환영합니다.\n",
    "* 본 과정에서는 실제 사례와 데이터를 기반으로 문제를 해결하는 전체 과정을 자기 주도형 실습으로 진행해볼 예정입니다.\n",
    "* 앞선 교육과정을 정리하는 마음과 지금까지 배운 내용을 바탕으로 문제 해결을 해볼게요!\n",
    "* 미니 프로젝트를 통한 문제 해결 과정 'A에서 Z까지', 지금부터 시작합니다!"
   ]
  },
  {
   "cell_type": "markdown",
   "id": "04b1edbb",
   "metadata": {},
   "source": [
    "---"
   ]
  },
  {
   "cell_type": "code",
   "execution_count": null,
   "id": "3c1789e6",
   "metadata": {},
   "outputs": [],
   "source": [
    "# 필요 라이브러리부터 설치할께요.\n",
    "!pip install pandas seaborn sklearn"
   ]
  },
  {
   "cell_type": "markdown",
   "id": "69d11f7f",
   "metadata": {},
   "source": [
    "---"
   ]
  },
  {
   "cell_type": "markdown",
   "id": "b5cf42a0",
   "metadata": {},
   "source": [
    "---"
   ]
  },
  {
   "cell_type": "markdown",
   "id": "skilled-burden",
   "metadata": {},
   "source": [
    "# 1. 라이브러리 Import 및 데이터 불러오기\n",
    "\n",
    "* sklearn 을 설치 하세요. \n",
    "\n",
    "* 관련 라이브러리들을 불러오세요"
   ]
  },
  {
   "cell_type": "code",
   "execution_count": 1,
   "id": "efficient-minutes",
   "metadata": {},
   "outputs": [],
   "source": [
    "import numpy as np\n",
    "import pandas as pd\n",
    "\n",
    "# 학습/평가 데이터 로딩\n",
    "df_21_feature = pd.read_csv(\"train_x.csv\")\n",
    "df_21_target = pd.read_csv(\"train_y.csv\")\n",
    "df_22_feature = pd.read_csv(\"test_x.csv\")\n",
    "df_22_target = pd.read_csv(\"test_y.csv\")"
   ]
  },
  {
   "cell_type": "markdown",
   "id": "forbidden-course",
   "metadata": {},
   "source": [
    "#### [실습문제1] 라이브러리 불러오기\n",
    "\n"
   ]
  },
  {
   "cell_type": "code",
   "execution_count": 2,
   "id": "changed-arrangement",
   "metadata": {
    "scrolled": true
   },
   "outputs": [],
   "source": [
    "# 아래에 실습코드를 작성하세요.\n",
    "import matplotlib.pyplot as plt\n",
    "import seaborn as sns\n",
    "\n",
    "from sklearn.metrics import *\n",
    "import pickle\n",
    "\n",
    "import warnings\n",
    "warnings.filterwarnings('ignore')"
   ]
  },
  {
   "cell_type": "code",
   "execution_count": 3,
   "id": "62fb7a24",
   "metadata": {},
   "outputs": [],
   "source": [
    "# 시각화 한글폰트 설정\n",
    "\n",
    "plt.rc('font', family='Malgun Gothic')\n",
    "sns.set(font=\"Malgun Gothic\",#\"NanumGothicCoding\", \n",
    "        rc={\"axes.unicode_minus\":False}, # 마이너스 부호 깨짐 현상 해결\n",
    "        style='darkgrid')"
   ]
  },
  {
   "cell_type": "code",
   "execution_count": 4,
   "id": "3a1388fe",
   "metadata": {},
   "outputs": [],
   "source": [
    "def plot_feature_importance(importance, names):\n",
    "    feature_importance = np.array(importance)\n",
    "    feature_names = np.array(names)\n",
    "\n",
    "    data={'feature_names':feature_names,'feature_importance':feature_importance}\n",
    "    fi_df = pd.DataFrame(data)\n",
    "\n",
    "    fi_df.sort_values(by=['feature_importance'], ascending=False,inplace=True)\n",
    "    fi_df.reset_index(drop=True, inplace = True)\n",
    "\n",
    "    plt.figure(figsize=(10,8))\n",
    "    sns.barplot(x='feature_importance', y='feature_names', data = fi_df)\n",
    "\n",
    "    plt.xlabel('FEATURE IMPORTANCE')\n",
    "    plt.ylabel('FEATURE NAMES')\n",
    "    plt.grid()\n",
    "\n",
    "    return fi_df"
   ]
  },
  {
   "cell_type": "markdown",
   "id": "2084ca1a",
   "metadata": {},
   "source": [
    "---"
   ]
  },
  {
   "cell_type": "markdown",
   "id": "native-expansion",
   "metadata": {},
   "source": [
    "# 2. Modeling\n",
    "## 이제 모델링을 해봅시다!\n",
    "+ KeyPoint : 머신러닝 라이브러리를 토대로 모델링을 할 수 있다."
   ]
  },
  {
   "cell_type": "markdown",
   "id": "persistent-brighton",
   "metadata": {},
   "source": [
    "### 가. LinearRegression 부터 시작해봅시다."
   ]
  },
  {
   "cell_type": "markdown",
   "id": "joined-client",
   "metadata": {},
   "source": [
    "#### [실습문제2] 머신러닝_1\n",
    "* Train과 Test로 나눈 데이터를 기준으로 LinearRegression 모델링을 진행하고 평가를 해주세요.\n",
    "* 그리고 모델 파일을 pkl로 저장해주세요.\n",
    "* 성능지표 : RMSE, R-squared Score(소수점 5째자리까지, 반올림)"
   ]
  },
  {
   "cell_type": "code",
   "execution_count": 5,
   "id": "willing-disclaimer",
   "metadata": {
    "scrolled": false
   },
   "outputs": [],
   "source": [
    "# 아래에 실습코드를 작성하세요.\n",
    "from sklearn.linear_model import LinearRegression\n",
    "\n",
    "m1 = LinearRegression()\n",
    "m1.fit(df_21_feature, df_21_target)\n",
    "p1 = m1.predict(df_22_feature)"
   ]
  },
  {
   "cell_type": "code",
   "execution_count": 6,
   "id": "0a21d60f",
   "metadata": {},
   "outputs": [
    {
     "name": "stdout",
     "output_type": "stream",
     "text": [
      "R-squared Score:  0.92543\n",
      "RMSE:  41.05523\n"
     ]
    }
   ],
   "source": [
    "# Test 데이터로 성능을 평가해보세요.\n",
    "print(f'R-squared Score: {r2_score(df_22_target, p1): .5f}')\n",
    "print(f'RMSE: {mean_squared_error(df_22_target, p1): .5f}')"
   ]
  },
  {
   "cell_type": "code",
   "execution_count": 7,
   "id": "fe2096b7",
   "metadata": {},
   "outputs": [],
   "source": [
    "# 학습한 모델을 파일로 저장해보세요.\n",
    "pickle.dump(m1, open('./models/lr_model.pkl', 'wb'))"
   ]
  },
  {
   "cell_type": "code",
   "execution_count": 8,
   "id": "e902c6cf",
   "metadata": {},
   "outputs": [],
   "source": [
    "from statsmodels.regression.linear_model import OLS\n",
    "from statsmodels.tools import add_constant\n",
    "\n",
    "def forward_stepwise_linear(x_train, y_train):\n",
    "\n",
    "    # 변수목록, 선택된 변수 목록, 단계별 모델과 AIC 저장소 정의\n",
    "    features = list(x_train)\n",
    "    selected = []\n",
    "    step_df = pd.DataFrame({ 'step':[], 'feature':[],'aic':[]})\n",
    "\n",
    "    for s in range(0, len(features)) :\n",
    "        result =  { 'step':[], 'feature':[],'aic':[]}\n",
    "\n",
    "        # 변수 목록에서 변수 한개씩 뽑아서 모델에 추가\n",
    "        for f in features :\n",
    "            vars = selected + [f]\n",
    "            x_tr = x_train[vars]\n",
    "            model = OLS(y_train, add_constant(x_tr)).fit()\n",
    "            result['step'].append(s+1)\n",
    "            result['feature'].append(vars)\n",
    "            result['aic'].append(model.aic)\n",
    "        \n",
    "        # 모델별 aic 집계\n",
    "        temp = pd.DataFrame(result).sort_values('aic').reset_index(drop = True)\n",
    "\n",
    "        # 만약 이전 aic보다 새로운 aic 가 크다면 멈추기\n",
    "        if step_df['aic'].min() < temp['aic'].min() :\n",
    "            break\n",
    "        step_df = pd.concat([step_df, temp], axis = 0).reset_index(drop = True)\n",
    "\n",
    "        # 선택된 변수 제거\n",
    "        v = temp.loc[0,'feature'][s]\n",
    "        features.remove(v)\n",
    "\n",
    "        selected.append(v)\n",
    "    \n",
    "    # 선택된 변수와 step_df 결과 반환\n",
    "    return selected, step_df"
   ]
  },
  {
   "cell_type": "code",
   "execution_count": 10,
   "id": "99cbb94e",
   "metadata": {},
   "outputs": [
    {
     "name": "stdout",
     "output_type": "stream",
     "text": [
      "['PM10', '시정(10m)', 'CO', 'PM25', '지면온도(°C)', '30cm 지중온도(°C)', '전운량(10분위)', '5cm 지중온도(°C)', '10cm 지중온도(°C)', 'NO2']\n"
     ]
    }
   ],
   "source": [
    "cols, _ = forward_stepwise_linear(df_21_feature, df_21_target)\n",
    "print(cols)"
   ]
  },
  {
   "cell_type": "code",
   "execution_count": 11,
   "id": "766b3caa",
   "metadata": {},
   "outputs": [],
   "source": [
    "xtrain = df_21_feature[cols]\n",
    "xtest = df_22_feature[cols]\n",
    "\n",
    "model = LinearRegression()\n",
    "model.fit(xtrain, df_21_target)\n",
    "pred = model.predict(xtest)"
   ]
  },
  {
   "cell_type": "code",
   "execution_count": 12,
   "id": "0a21d60f",
   "metadata": {},
   "outputs": [
    {
     "name": "stdout",
     "output_type": "stream",
     "text": [
      "R-squared Score:  0.92549\n",
      "RMSE:  41.02437\n"
     ]
    }
   ],
   "source": [
    "# Test 데이터로 성능을 평가해보세요.\n",
    "print(f'R-squared Score: {r2_score(df_22_target, pred): .5f}')\n",
    "print(f'RMSE: {mean_squared_error(df_22_target, pred): .5f}')"
   ]
  },
  {
   "cell_type": "markdown",
   "id": "lesser-universe",
   "metadata": {},
   "source": [
    "### 나. 다음은 앙상블 기법을 토대로 랜덤포레스트와 그라디언브스팅을 활용해봅시다."
   ]
  },
  {
   "cell_type": "markdown",
   "id": "crazy-escape",
   "metadata": {},
   "source": [
    "#### 1) 렌덤포레스트\n",
    "##### 배깅의 일종으로 의사결정나무(Decision Tree) 여러 개를 모아서 숲을 랜덤으로 구성하고 이를 종합해서 최종 모델을 산출하는 기법이라고 할 수 있다."
   ]
  },
  {
   "cell_type": "markdown",
   "id": "dense-eleven",
   "metadata": {},
   "source": [
    "#### [실습문제3] 머신러닝_2\n",
    "* Train과 Test로 나눈 데이터를 기준으로 렌덤포레스트로 모델을 학습을 진행하고 평가를 해주세요.\n",
    "* 그리고 모델 파일을 pkl로 저장해주세요.\n",
    "* 성능지표 : RMSE, R-squared Score(소수점 5째자리까지, 반올림)"
   ]
  },
  {
   "cell_type": "code",
   "execution_count": 8,
   "id": "willing-disclaimer",
   "metadata": {
    "scrolled": false
   },
   "outputs": [],
   "source": [
    "# 아래에 실습코드를 작성하세요.\n",
    "from sklearn.ensemble import RandomForestRegressor\n",
    "\n",
    "m2 = RandomForestRegressor()\n",
    "m2.fit(df_21_feature, df_21_target)\n",
    "p2 = m2.predict(df_22_feature)"
   ]
  },
  {
   "cell_type": "code",
   "execution_count": 9,
   "id": "0a21d60f",
   "metadata": {},
   "outputs": [
    {
     "name": "stdout",
     "output_type": "stream",
     "text": [
      "R-squared Score:  0.91667\n",
      "RMSE:  45.87855\n"
     ]
    }
   ],
   "source": [
    "# Test 데이터로 성능을 평가해보세요.\n",
    "print(f'R-squared Score: {r2_score(df_22_target, p2): .5f}')\n",
    "print(f'RMSE: {mean_squared_error(df_22_target, p2): .5f}')"
   ]
  },
  {
   "cell_type": "code",
   "execution_count": 10,
   "id": "fe2096b7",
   "metadata": {},
   "outputs": [],
   "source": [
    "# 학습한 모델을 파일로 저장해보세요.\n",
    "pickle.dump(m2, open('./models/rf_model.pkl', 'wb'))"
   ]
  },
  {
   "cell_type": "markdown",
   "id": "788be2bb",
   "metadata": {},
   "source": [
    "#### [실습문제4] 머신러닝_3\n",
    "* 렌덤포레스트로 학습한 모델의 feature_importances 또는 Shap value를 구해보세요.\n",
    "* 확인할 수 있는 내용으로 우리 모델에서의 인사이트를 정리해보세요."
   ]
  },
  {
   "cell_type": "code",
   "execution_count": 11,
   "id": "e19f84b0",
   "metadata": {},
   "outputs": [
    {
     "data": {
      "image/png": "[encoded data removed]",
      "text/plain": [
       "<Figure size 720x576 with 1 Axes>"
      ]
     },
     "metadata": {},
     "output_type": "display_data"
    }
   ],
   "source": [
    "# Feature의 중요도 확인\n",
    "result = plot_feature_importance(m2.feature_importances_, list(df_21_feature))"
   ]
  },
  {
   "cell_type": "code",
   "execution_count": 12,
   "id": "af7989f3",
   "metadata": {},
   "outputs": [],
   "source": [
    "# 확인할 수 있는 인사이트\n",
    "# 1.\n",
    "# 2.\n",
    "# 3."
   ]
  },
  {
   "cell_type": "markdown",
   "id": "convinced-vocabulary",
   "metadata": {},
   "source": [
    "#### 2) GradientBoosting\n",
    "##### 앞선 모델의 에러를 다음 모델의 예측 값으로 활용하면서 가중치 업데이트 하는데 경사하강법(Gradient Descent)를 활용해서 최적 모델을 만드는 기법"
   ]
  },
  {
   "cell_type": "markdown",
   "id": "needed-google",
   "metadata": {},
   "source": [
    "#### [실습문제5] 머신러닝_4\n",
    "* Train과 Test로 나눈 데이터를 기준으로 그라디언트부스팅으로 모델을 학습을 진행하고 평가를 해주세요.\n",
    "* 그리고 모델 파일을 pkl로 저장해주세요.\n",
    "* 성능지표 : RMSE, R-squared Score(소수점 5째자리까지, 반올림)"
   ]
  },
  {
   "cell_type": "code",
   "execution_count": 13,
   "id": "willing-disclaimer",
   "metadata": {
    "scrolled": false
   },
   "outputs": [],
   "source": [
    "# 아래에 실습코드를 작성하세요.\n",
    "from xgboost import XGBRegressor\n",
    "\n",
    "m3 = XGBRegressor()\n",
    "m3.fit(df_21_feature, df_21_target)\n",
    "p3 = m3.predict(df_22_feature)"
   ]
  },
  {
   "cell_type": "code",
   "execution_count": 14,
   "id": "0a21d60f",
   "metadata": {},
   "outputs": [
    {
     "name": "stdout",
     "output_type": "stream",
     "text": [
      "R-squared Score:  0.90356\n",
      "RMSE:  53.09498\n"
     ]
    }
   ],
   "source": [
    "# Test 데이터로 성능을 평가해보세요.\n",
    "print(f'R-squared Score: {r2_score(df_22_target, p3): .5f}')\n",
    "print(f'RMSE: {mean_squared_error(df_22_target, p3): .5f}')"
   ]
  },
  {
   "cell_type": "code",
   "execution_count": 15,
   "id": "fe2096b7",
   "metadata": {},
   "outputs": [],
   "source": [
    "# 학습한 모델을 파일로 저장해보세요.\n",
    "pickle.dump(m3, open('./models/xgb_model.pkl', 'wb'))"
   ]
  },
  {
   "cell_type": "markdown",
   "id": "04925b45",
   "metadata": {},
   "source": [
    "#### [실습문제6] 머신러닝_5\n",
    "* 그라디언트부스팅으로 학습한 모델의 feature_importances 또는 Shap value를 구해보세요.\n",
    "* 확인할 수 있는 내용으로 우리 모델에서의 인사이트를 정리해보세요."
   ]
  },
  {
   "cell_type": "code",
   "execution_count": 16,
   "id": "8deba58d",
   "metadata": {},
   "outputs": [
    {
     "data": {
      "image/png": "[encoded data removed]",
      "text/plain": [
       "<Figure size 720x576 with 1 Axes>"
      ]
     },
     "metadata": {},
     "output_type": "display_data"
    }
   ],
   "source": [
    "# Feature의 중요도 확인\n",
    "result = plot_feature_importance(m3.feature_importances_, list(df_21_feature))"
   ]
  },
  {
   "cell_type": "code",
   "execution_count": 17,
   "id": "9d1bfe7d",
   "metadata": {},
   "outputs": [],
   "source": [
    "# 확인할 수 있는 인사이트\n",
    "# 1.\n",
    "# 2.\n",
    "# 3."
   ]
  },
  {
   "cell_type": "markdown",
   "id": "305bbd5b",
   "metadata": {},
   "source": [
    "#### 3) Self Choice Model\n",
    "##### 앞선 교육과정에서 배운 머신러닝 모델 중 어떤 것이든 좋습니다. 원하는 모델을 선택해서 학습을 시켜보세요."
   ]
  },
  {
   "cell_type": "markdown",
   "id": "fbef7589",
   "metadata": {},
   "source": [
    "#### [실습문제7] 머신러닝_6\n",
    "* Train과 Test로 나눈 데이터를 기준으로 Self Choice Model로 모델을 학습을 진행하고 평가를 해주세요.\n",
    "* 그리고 모델 파일을 pkl로 저장해주세요.\n",
    "* 성능지표 : RMSE, R-squared Score(소수점 5째자리까지, 반올림)"
   ]
  },
  {
   "cell_type": "markdown",
   "id": "2b852e1c",
   "metadata": {},
   "source": [
    "- LightGBM"
   ]
  },
  {
   "cell_type": "code",
   "execution_count": 21,
   "id": "willing-disclaimer",
   "metadata": {
    "scrolled": false
   },
   "outputs": [],
   "source": [
    "# 아래에 실습코드를 작성하세요.\n",
    "import lightgbm as lgb\n",
    "\n",
    "params = {\n",
    "    'task': 'train', \n",
    "    'boosting': 'gbdt',\n",
    "    'objective': 'regression',\n",
    "    'num_leaves': 10,\n",
    "    'learnnig_rage': 0.05,\n",
    "    'metric': {'l2','l1'},\n",
    "    # 'verbose': -1\n",
    "}\n",
    "\n",
    "train_data = lgb.Dataset(df_21_feature, df_21_target)\n",
    "test_data = lgb.Dataset(df_22_feature, df_22_target, reference=train_data)"
   ]
  },
  {
   "cell_type": "code",
   "execution_count": 22,
   "id": "096ec7cd",
   "metadata": {},
   "outputs": [
    {
     "name": "stdout",
     "output_type": "stream",
     "text": [
      "[LightGBM] [Warning] Unknown parameter: learnnig_rage\n",
      "[1]\tvalid_0's l1: 15.0041\tvalid_0's l2: 458.749\n",
      "Training until validation scores don't improve for 30 rounds\n",
      "[2]\tvalid_0's l1: 13.6442\tvalid_0's l2: 381.215\n",
      "[3]\tvalid_0's l1: 12.4516\tvalid_0's l2: 317.495\n",
      "[4]\tvalid_0's l1: 11.3615\tvalid_0's l2: 265.744\n",
      "[5]\tvalid_0's l1: 10.401\tvalid_0's l2: 223.608\n",
      "[6]\tvalid_0's l1: 9.54817\tvalid_0's l2: 189.118\n",
      "[7]\tvalid_0's l1: 8.79979\tvalid_0's l2: 161.304\n",
      "[8]\tvalid_0's l1: 8.10836\tvalid_0's l2: 138.364\n",
      "[9]\tvalid_0's l1: 7.51682\tvalid_0's l2: 120.052\n",
      "[10]\tvalid_0's l1: 7.00527\tvalid_0's l2: 105.26\n",
      "[11]\tvalid_0's l1: 6.55036\tvalid_0's l2: 93.0066\n",
      "[12]\tvalid_0's l1: 6.15885\tvalid_0's l2: 83.3065\n",
      "[13]\tvalid_0's l1: 5.80768\tvalid_0's l2: 75.044\n",
      "[14]\tvalid_0's l1: 5.52368\tvalid_0's l2: 68.7314\n",
      "[15]\tvalid_0's l1: 5.28635\tvalid_0's l2: 63.5012\n",
      "[16]\tvalid_0's l1: 5.06878\tvalid_0's l2: 59.1382\n",
      "[17]\tvalid_0's l1: 4.89302\tvalid_0's l2: 55.8032\n",
      "[18]\tvalid_0's l1: 4.74564\tvalid_0's l2: 52.9989\n",
      "[19]\tvalid_0's l1: 4.6281\tvalid_0's l2: 50.5683\n",
      "[20]\tvalid_0's l1: 4.53052\tvalid_0's l2: 48.7674\n",
      "[21]\tvalid_0's l1: 4.44084\tvalid_0's l2: 47.2346\n",
      "[22]\tvalid_0's l1: 4.37487\tvalid_0's l2: 46.1289\n",
      "[23]\tvalid_0's l1: 4.30634\tvalid_0's l2: 44.9172\n",
      "[24]\tvalid_0's l1: 4.25462\tvalid_0's l2: 44.0798\n",
      "[25]\tvalid_0's l1: 4.20724\tvalid_0's l2: 43.3023\n",
      "[26]\tvalid_0's l1: 4.17084\tvalid_0's l2: 42.6879\n",
      "[27]\tvalid_0's l1: 4.12893\tvalid_0's l2: 42.0258\n",
      "[28]\tvalid_0's l1: 4.09939\tvalid_0's l2: 41.6573\n",
      "[29]\tvalid_0's l1: 4.07152\tvalid_0's l2: 41.1234\n",
      "[30]\tvalid_0's l1: 4.05397\tvalid_0's l2: 40.6567\n",
      "[31]\tvalid_0's l1: 4.04\tvalid_0's l2: 40.5445\n",
      "[32]\tvalid_0's l1: 4.01768\tvalid_0's l2: 40.0606\n",
      "[33]\tvalid_0's l1: 4.01588\tvalid_0's l2: 40.0837\n",
      "[34]\tvalid_0's l1: 4.00616\tvalid_0's l2: 39.8107\n",
      "[35]\tvalid_0's l1: 3.99471\tvalid_0's l2: 39.7535\n",
      "[36]\tvalid_0's l1: 3.99431\tvalid_0's l2: 39.8009\n",
      "[37]\tvalid_0's l1: 3.98424\tvalid_0's l2: 39.5335\n",
      "[38]\tvalid_0's l1: 3.98512\tvalid_0's l2: 39.6371\n",
      "[39]\tvalid_0's l1: 3.97297\tvalid_0's l2: 39.3313\n",
      "[40]\tvalid_0's l1: 3.97671\tvalid_0's l2: 39.4788\n",
      "[41]\tvalid_0's l1: 3.96608\tvalid_0's l2: 39.2043\n",
      "[42]\tvalid_0's l1: 3.97052\tvalid_0's l2: 39.3504\n",
      "[43]\tvalid_0's l1: 3.96024\tvalid_0's l2: 38.9461\n",
      "[44]\tvalid_0's l1: 3.96312\tvalid_0's l2: 38.9453\n",
      "[45]\tvalid_0's l1: 3.95303\tvalid_0's l2: 38.7257\n",
      "[46]\tvalid_0's l1: 3.95467\tvalid_0's l2: 38.8501\n",
      "[47]\tvalid_0's l1: 3.94673\tvalid_0's l2: 38.6856\n",
      "[48]\tvalid_0's l1: 3.94926\tvalid_0's l2: 38.7821\n",
      "[49]\tvalid_0's l1: 3.93976\tvalid_0's l2: 38.4999\n",
      "[50]\tvalid_0's l1: 3.94017\tvalid_0's l2: 38.657\n",
      "[51]\tvalid_0's l1: 3.92747\tvalid_0's l2: 38.3587\n",
      "[52]\tvalid_0's l1: 3.92777\tvalid_0's l2: 38.4025\n",
      "[53]\tvalid_0's l1: 3.9195\tvalid_0's l2: 38.2048\n",
      "[54]\tvalid_0's l1: 3.92209\tvalid_0's l2: 38.3965\n",
      "[55]\tvalid_0's l1: 3.91899\tvalid_0's l2: 38.2437\n",
      "[56]\tvalid_0's l1: 3.91095\tvalid_0's l2: 38.0541\n",
      "[57]\tvalid_0's l1: 3.91506\tvalid_0's l2: 38.2183\n",
      "[58]\tvalid_0's l1: 3.90612\tvalid_0's l2: 38.009\n",
      "[59]\tvalid_0's l1: 3.9137\tvalid_0's l2: 38.1402\n",
      "[60]\tvalid_0's l1: 3.90806\tvalid_0's l2: 37.9915\n",
      "[61]\tvalid_0's l1: 3.90509\tvalid_0's l2: 38.0071\n",
      "[62]\tvalid_0's l1: 3.89876\tvalid_0's l2: 37.7605\n",
      "[63]\tvalid_0's l1: 3.91115\tvalid_0's l2: 38.068\n",
      "[64]\tvalid_0's l1: 3.90528\tvalid_0's l2: 37.9221\n",
      "[65]\tvalid_0's l1: 3.90575\tvalid_0's l2: 37.9927\n",
      "[66]\tvalid_0's l1: 3.90638\tvalid_0's l2: 37.9074\n",
      "[67]\tvalid_0's l1: 3.91122\tvalid_0's l2: 38.1256\n",
      "[68]\tvalid_0's l1: 3.90604\tvalid_0's l2: 37.9564\n",
      "[69]\tvalid_0's l1: 3.9046\tvalid_0's l2: 37.9818\n",
      "[70]\tvalid_0's l1: 3.90119\tvalid_0's l2: 37.8393\n",
      "[71]\tvalid_0's l1: 3.8977\tvalid_0's l2: 37.7366\n",
      "[72]\tvalid_0's l1: 3.9048\tvalid_0's l2: 37.9745\n",
      "[73]\tvalid_0's l1: 3.90015\tvalid_0's l2: 37.6089\n",
      "[74]\tvalid_0's l1: 3.90421\tvalid_0's l2: 37.7706\n",
      "[75]\tvalid_0's l1: 3.8996\tvalid_0's l2: 37.5976\n",
      "[76]\tvalid_0's l1: 3.90388\tvalid_0's l2: 37.7615\n",
      "[77]\tvalid_0's l1: 3.89534\tvalid_0's l2: 37.5188\n",
      "[78]\tvalid_0's l1: 3.89869\tvalid_0's l2: 37.6069\n",
      "[79]\tvalid_0's l1: 3.89618\tvalid_0's l2: 37.4443\n",
      "[80]\tvalid_0's l1: 3.9061\tvalid_0's l2: 37.6382\n",
      "[81]\tvalid_0's l1: 3.90223\tvalid_0's l2: 37.5276\n",
      "[82]\tvalid_0's l1: 3.90349\tvalid_0's l2: 37.592\n",
      "[83]\tvalid_0's l1: 3.90995\tvalid_0's l2: 37.5887\n",
      "[84]\tvalid_0's l1: 3.9138\tvalid_0's l2: 37.707\n",
      "[85]\tvalid_0's l1: 3.91285\tvalid_0's l2: 37.625\n",
      "[86]\tvalid_0's l1: 3.91388\tvalid_0's l2: 37.6605\n",
      "[87]\tvalid_0's l1: 3.90931\tvalid_0's l2: 37.5359\n",
      "[88]\tvalid_0's l1: 3.91572\tvalid_0's l2: 37.6502\n",
      "[89]\tvalid_0's l1: 3.91144\tvalid_0's l2: 37.5401\n",
      "[90]\tvalid_0's l1: 3.91198\tvalid_0's l2: 37.6127\n",
      "[91]\tvalid_0's l1: 3.91056\tvalid_0's l2: 37.5492\n",
      "[92]\tvalid_0's l1: 3.90846\tvalid_0's l2: 37.4852\n",
      "[93]\tvalid_0's l1: 3.90555\tvalid_0's l2: 37.411\n",
      "[94]\tvalid_0's l1: 3.9011\tvalid_0's l2: 37.3783\n",
      "[95]\tvalid_0's l1: 3.89906\tvalid_0's l2: 37.319\n",
      "[96]\tvalid_0's l1: 3.90065\tvalid_0's l2: 37.3668\n",
      "[97]\tvalid_0's l1: 3.89608\tvalid_0's l2: 37.2357\n",
      "[98]\tvalid_0's l1: 3.89568\tvalid_0's l2: 37.1903\n",
      "[99]\tvalid_0's l1: 3.89786\tvalid_0's l2: 37.2519\n",
      "[100]\tvalid_0's l1: 3.89512\tvalid_0's l2: 37.1896\n",
      "Did not meet early stopping. Best iteration is:\n",
      "[100]\tvalid_0's l1: 3.89512\tvalid_0's l2: 37.1896\n"
     ]
    }
   ],
   "source": [
    "m4 = lgb.train(params, train_set=train_data, valid_sets=test_data, early_stopping_rounds=30)"
   ]
  },
  {
   "cell_type": "code",
   "execution_count": 23,
   "id": "d640bf87",
   "metadata": {},
   "outputs": [],
   "source": [
    "p4 = m4.predict(df_22_feature)"
   ]
  },
  {
   "cell_type": "code",
   "execution_count": 24,
   "id": "0a21d60f",
   "metadata": {},
   "outputs": [
    {
     "name": "stdout",
     "output_type": "stream",
     "text": [
      "R-squared Score:  0.93245\n",
      "RMSE:  37.18955\n"
     ]
    }
   ],
   "source": [
    "# Test 데이터로 성능을 평가해보세요.\n",
    "print(f'R-squared Score: {r2_score(df_22_target, p4): .5f}')\n",
    "print(f'RMSE: {mean_squared_error(df_22_target, p4): .5f}')"
   ]
  },
  {
   "cell_type": "code",
   "execution_count": 25,
   "id": "fe2096b7",
   "metadata": {},
   "outputs": [],
   "source": [
    "# 학습한 모델을 파일로 저장해보세요.\n",
    "pickle.dump(m4, open('./models/gbm_model.pkl', 'wb'))"
   ]
  },
  {
   "cell_type": "markdown",
   "id": "fe6a5bd9",
   "metadata": {},
   "source": [
    "- SARIMA"
   ]
  },
  {
   "cell_type": "code",
   "execution_count": 43,
   "id": "cd0590cc",
   "metadata": {},
   "outputs": [
    {
     "data": {
      "image/png": "[encoded data removed]",
      "text/plain": [
       "<Figure size 1440x576 with 1 Axes>"
      ]
     },
     "metadata": {},
     "output_type": "display_data"
    }
   ],
   "source": [
    "y = df_21_target[-100:]\n",
    "plt.figure(figsize = (20,8))\n",
    "plt.plot(y, marker ='o')\n",
    "plt.grid()\n",
    "plt.show()"
   ]
  },
  {
   "cell_type": "code",
   "execution_count": 37,
   "id": "willing-disclaimer",
   "metadata": {
    "scrolled": false
   },
   "outputs": [
    {
     "name": "stderr",
     "output_type": "stream",
     "text": [
      "c:\\Users\\User\\anaconda3\\lib\\site-packages\\statsmodels\\base\\model.py:566: ConvergenceWarning: Maximum Likelihood optimization failed to converge. Check mle_retvals\n",
      "  warnings.warn(\"Maximum Likelihood optimization failed to \"\n"
     ]
    }
   ],
   "source": [
    "# 아래에 실습코드를 작성하세요.\n",
    "import statsmodels.api as sm\n",
    "\n",
    "m5 = sm.tsa.SARIMAX(df_21_target, order=(4,1,3)).fit()\n",
    "p5 = m5.forecast(30)"
   ]
  },
  {
   "cell_type": "code",
   "execution_count": 38,
   "id": "0a21d60f",
   "metadata": {},
   "outputs": [
    {
     "name": "stdout",
     "output_type": "stream",
     "text": [
      "R-squared Score:  0.35264\n",
      "RMSE:  28.86932\n"
     ]
    }
   ],
   "source": [
    "# Test 데이터로 성능을 평가해보세요.\n",
    "tmp = df_22_target[:30]\n",
    "print(f'R-squared Score: {r2_score(tmp, p5): .5f}')\n",
    "print(f'RMSE: {mean_squared_error(tmp, p5): .5f}')"
   ]
  },
  {
   "cell_type": "code",
   "execution_count": 39,
   "id": "fe2096b7",
   "metadata": {},
   "outputs": [],
   "source": [
    "# 학습한 모델을 파일로 저장해보세요.\n",
    "pickle.dump(m5, open('./models/sarimma_model.pkl', 'wb'))"
   ]
  },
  {
   "cell_type": "code",
   "execution_count": 34,
   "id": "e3e9a5c2",
   "metadata": {},
   "outputs": [],
   "source": [
    "from itertools import product\n",
    "\n",
    "p = [1,2,3,4]\n",
    "q = [1,2,3,4]\n",
    "d = [1]\n",
    "iter = list(product(p,d,q))"
   ]
  },
  {
   "cell_type": "code",
   "execution_count": 40,
   "id": "c0339b28",
   "metadata": {},
   "outputs": [],
   "source": [
    "import warnings\n",
    "warnings.filterwarnings('ignore')"
   ]
  },
  {
   "cell_type": "code",
   "execution_count": 41,
   "id": "69d9fad5",
   "metadata": {},
   "outputs": [
    {
     "name": "stdout",
     "output_type": "stream",
     "text": [
      "(1, 1, 1)\n",
      "(1, 1, 2)\n",
      "(1, 1, 3)\n",
      "(1, 1, 4)\n",
      "(2, 1, 1)\n",
      "(2, 1, 2)\n",
      "(2, 1, 3)\n",
      "(2, 1, 4)\n",
      "(3, 1, 1)\n",
      "(3, 1, 2)\n",
      "(3, 1, 3)\n",
      "(3, 1, 4)\n",
      "(4, 1, 1)\n",
      "(4, 1, 2)\n",
      "(4, 1, 3)\n",
      "(4, 1, 4)\n"
     ]
    }
   ],
   "source": [
    "rmse, aic = [],[]\n",
    "for i in iter :\n",
    "    model_fit = sm.tsa.SARIMAX(df_21_target, order=(i[0],i[1],i[2])).fit()\n",
    "    pred = model_fit.forecast(30)\n",
    "    rmse.append(mean_squared_error(tmp, pred))\n",
    "    aic.append(model_fit.aic)\n",
    "    print(i)"
   ]
  },
  {
   "cell_type": "code",
   "execution_count": 42,
   "id": "1e6f70ac",
   "metadata": {},
   "outputs": [
    {
     "data": {
      "text/html": [
       "<div>\n",
       "<style scoped>\n",
       "    .dataframe tbody tr th:only-of-type {\n",
       "        vertical-align: middle;\n",
       "    }\n",
       "\n",
       "    .dataframe tbody tr th {\n",
       "        vertical-align: top;\n",
       "    }\n",
       "\n",
       "    .dataframe thead th {\n",
       "        text-align: right;\n",
       "    }\n",
       "</style>\n",
       "<table border=\"1\" class=\"dataframe\">\n",
       "  <thead>\n",
       "    <tr style=\"text-align: right;\">\n",
       "      <th></th>\n",
       "      <th>params(p,d,q)</th>\n",
       "      <th>rmse</th>\n",
       "      <th>aic</th>\n",
       "    </tr>\n",
       "  </thead>\n",
       "  <tbody>\n",
       "    <tr>\n",
       "      <th>13</th>\n",
       "      <td>(4, 1, 2)</td>\n",
       "      <td>28.717726</td>\n",
       "      <td>61252.428824</td>\n",
       "    </tr>\n",
       "  </tbody>\n",
       "</table>\n",
       "</div>"
      ],
      "text/plain": [
       "   params(p,d,q)       rmse           aic\n",
       "13     (4, 1, 2)  28.717726  61252.428824"
      ]
     },
     "metadata": {},
     "output_type": "display_data"
    },
    {
     "data": {
      "text/html": [
       "<div>\n",
       "<style scoped>\n",
       "    .dataframe tbody tr th:only-of-type {\n",
       "        vertical-align: middle;\n",
       "    }\n",
       "\n",
       "    .dataframe tbody tr th {\n",
       "        vertical-align: top;\n",
       "    }\n",
       "\n",
       "    .dataframe thead th {\n",
       "        text-align: right;\n",
       "    }\n",
       "</style>\n",
       "<table border=\"1\" class=\"dataframe\">\n",
       "  <thead>\n",
       "    <tr style=\"text-align: right;\">\n",
       "      <th></th>\n",
       "      <th>params(p,d,q)</th>\n",
       "      <th>rmse</th>\n",
       "      <th>aic</th>\n",
       "    </tr>\n",
       "  </thead>\n",
       "  <tbody>\n",
       "    <tr>\n",
       "      <th>7</th>\n",
       "      <td>(2, 1, 4)</td>\n",
       "      <td>102.10479</td>\n",
       "      <td>61217.068491</td>\n",
       "    </tr>\n",
       "  </tbody>\n",
       "</table>\n",
       "</div>"
      ],
      "text/plain": [
       "  params(p,d,q)       rmse           aic\n",
       "7     (2, 1, 4)  102.10479  61217.068491"
      ]
     },
     "metadata": {},
     "output_type": "display_data"
    }
   ],
   "source": [
    "result = pd.DataFrame({'params(p,d,q)' : iter, 'rmse' : rmse, 'aic':aic})\n",
    "\n",
    "display(result.loc[result['rmse'] == result.rmse.min()])\n",
    "display(result.loc[result['aic'] == result.aic.min()])"
   ]
  },
  {
   "cell_type": "markdown",
   "id": "94cfdb09",
   "metadata": {},
   "source": [
    "#### [실습문제8] 머신러닝_7\n",
    "* Self Choice Model로 학습한 모델의 feature_importances 또는 Shap value를 구해보세요.\n",
    "* 확인할 수 있는 내용으로 우리 모델에서의 인사이트를 정리해보세요."
   ]
  },
  {
   "cell_type": "code",
   "execution_count": null,
   "id": "a8ac782c",
   "metadata": {},
   "outputs": [],
   "source": [
    "# 확인할 수 있는 인사이트\n",
    "# 1.\n",
    "# 2.\n",
    "# 3."
   ]
  }
 ],
 "metadata": {
  "kernelspec": {
   "display_name": "Python 3.8.8 ('base')",
   "language": "python",
   "name": "python3"
  },
  "language_info": {
   "codemirror_mode": {
    "name": "ipython",
    "version": 3
   },
   "file_extension": ".py",
   "mimetype": "text/x-python",
   "name": "python",
   "nbconvert_exporter": "python",
   "pygments_lexer": "ipython3",
   "version": "3.8.8"
  },
  "vscode": {
   "interpreter": {
    "hash": "f08154012ddadd8e950e6e9e035c7a7b32c136e7647e9b7c77e02eb723a8bedb"
   }
  }
 },
 "nbformat": 4,
 "nbformat_minor": 5
}
